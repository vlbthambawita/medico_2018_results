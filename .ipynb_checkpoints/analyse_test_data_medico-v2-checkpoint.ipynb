{
 "cells": [
  {
   "cell_type": "code",
   "execution_count": 44,
   "metadata": {},
   "outputs": [],
   "source": [
    "from bokeh.io import output_notebook\n",
    "from bokeh.plotting import figure, show\n",
    "from bokeh.transform import factor_cmap\n",
    "from bokeh.palettes import Spectral6,Magma256, Category20\n",
    "from bokeh.models import ColumnDataSource\n",
    "from bokeh.transform import dodge\n",
    "from bokeh.core.properties import value\n",
    "import os"
   ]
  },
  {
   "cell_type": "code",
   "execution_count": 2,
   "metadata": {},
   "outputs": [],
   "source": [
    "import pandas as pd"
   ]
  },
  {
   "cell_type": "code",
   "execution_count": 3,
   "metadata": {},
   "outputs": [
    {
     "data": {
      "text/html": [
       "\n",
       "    <div class=\"bk-root\">\n",
       "        <a href=\"https://bokeh.pydata.org\" target=\"_blank\" class=\"bk-logo bk-logo-small bk-logo-notebook\"></a>\n",
       "        <span id=\"724723d0-3152-413e-b832-6956bd27c672\">Loading BokehJS ...</span>\n",
       "    </div>"
      ]
     },
     "metadata": {},
     "output_type": "display_data"
    },
    {
     "data": {
      "application/javascript": [
       "\n",
       "(function(root) {\n",
       "  function now() {\n",
       "    return new Date();\n",
       "  }\n",
       "\n",
       "  var force = true;\n",
       "\n",
       "  if (typeof (root._bokeh_onload_callbacks) === \"undefined\" || force === true) {\n",
       "    root._bokeh_onload_callbacks = [];\n",
       "    root._bokeh_is_loading = undefined;\n",
       "  }\n",
       "\n",
       "  var JS_MIME_TYPE = 'application/javascript';\n",
       "  var HTML_MIME_TYPE = 'text/html';\n",
       "  var EXEC_MIME_TYPE = 'application/vnd.bokehjs_exec.v0+json';\n",
       "  var CLASS_NAME = 'output_bokeh rendered_html';\n",
       "\n",
       "  /**\n",
       "   * Render data to the DOM node\n",
       "   */\n",
       "  function render(props, node) {\n",
       "    var script = document.createElement(\"script\");\n",
       "    node.appendChild(script);\n",
       "  }\n",
       "\n",
       "  /**\n",
       "   * Handle when an output is cleared or removed\n",
       "   */\n",
       "  function handleClearOutput(event, handle) {\n",
       "    var cell = handle.cell;\n",
       "\n",
       "    var id = cell.output_area._bokeh_element_id;\n",
       "    var server_id = cell.output_area._bokeh_server_id;\n",
       "    // Clean up Bokeh references\n",
       "    if (id != null && id in Bokeh.index) {\n",
       "      Bokeh.index[id].model.document.clear();\n",
       "      delete Bokeh.index[id];\n",
       "    }\n",
       "\n",
       "    if (server_id !== undefined) {\n",
       "      // Clean up Bokeh references\n",
       "      var cmd = \"from bokeh.io.state import curstate; print(curstate().uuid_to_server['\" + server_id + \"'].get_sessions()[0].document.roots[0]._id)\";\n",
       "      cell.notebook.kernel.execute(cmd, {\n",
       "        iopub: {\n",
       "          output: function(msg) {\n",
       "            var id = msg.content.text.trim();\n",
       "            if (id in Bokeh.index) {\n",
       "              Bokeh.index[id].model.document.clear();\n",
       "              delete Bokeh.index[id];\n",
       "            }\n",
       "          }\n",
       "        }\n",
       "      });\n",
       "      // Destroy server and session\n",
       "      var cmd = \"import bokeh.io.notebook as ion; ion.destroy_server('\" + server_id + \"')\";\n",
       "      cell.notebook.kernel.execute(cmd);\n",
       "    }\n",
       "  }\n",
       "\n",
       "  /**\n",
       "   * Handle when a new output is added\n",
       "   */\n",
       "  function handleAddOutput(event, handle) {\n",
       "    var output_area = handle.output_area;\n",
       "    var output = handle.output;\n",
       "\n",
       "    // limit handleAddOutput to display_data with EXEC_MIME_TYPE content only\n",
       "    if ((output.output_type != \"display_data\") || (!output.data.hasOwnProperty(EXEC_MIME_TYPE))) {\n",
       "      return\n",
       "    }\n",
       "\n",
       "    var toinsert = output_area.element.find(\".\" + CLASS_NAME.split(' ')[0]);\n",
       "\n",
       "    if (output.metadata[EXEC_MIME_TYPE][\"id\"] !== undefined) {\n",
       "      toinsert[toinsert.length - 1].firstChild.textContent = output.data[JS_MIME_TYPE];\n",
       "      // store reference to embed id on output_area\n",
       "      output_area._bokeh_element_id = output.metadata[EXEC_MIME_TYPE][\"id\"];\n",
       "    }\n",
       "    if (output.metadata[EXEC_MIME_TYPE][\"server_id\"] !== undefined) {\n",
       "      var bk_div = document.createElement(\"div\");\n",
       "      bk_div.innerHTML = output.data[HTML_MIME_TYPE];\n",
       "      var script_attrs = bk_div.children[0].attributes;\n",
       "      for (var i = 0; i < script_attrs.length; i++) {\n",
       "        toinsert[toinsert.length - 1].firstChild.setAttribute(script_attrs[i].name, script_attrs[i].value);\n",
       "      }\n",
       "      // store reference to server id on output_area\n",
       "      output_area._bokeh_server_id = output.metadata[EXEC_MIME_TYPE][\"server_id\"];\n",
       "    }\n",
       "  }\n",
       "\n",
       "  function register_renderer(events, OutputArea) {\n",
       "\n",
       "    function append_mime(data, metadata, element) {\n",
       "      // create a DOM node to render to\n",
       "      var toinsert = this.create_output_subarea(\n",
       "        metadata,\n",
       "        CLASS_NAME,\n",
       "        EXEC_MIME_TYPE\n",
       "      );\n",
       "      this.keyboard_manager.register_events(toinsert);\n",
       "      // Render to node\n",
       "      var props = {data: data, metadata: metadata[EXEC_MIME_TYPE]};\n",
       "      render(props, toinsert[toinsert.length - 1]);\n",
       "      element.append(toinsert);\n",
       "      return toinsert\n",
       "    }\n",
       "\n",
       "    /* Handle when an output is cleared or removed */\n",
       "    events.on('clear_output.CodeCell', handleClearOutput);\n",
       "    events.on('delete.Cell', handleClearOutput);\n",
       "\n",
       "    /* Handle when a new output is added */\n",
       "    events.on('output_added.OutputArea', handleAddOutput);\n",
       "\n",
       "    /**\n",
       "     * Register the mime type and append_mime function with output_area\n",
       "     */\n",
       "    OutputArea.prototype.register_mime_type(EXEC_MIME_TYPE, append_mime, {\n",
       "      /* Is output safe? */\n",
       "      safe: true,\n",
       "      /* Index of renderer in `output_area.display_order` */\n",
       "      index: 0\n",
       "    });\n",
       "  }\n",
       "\n",
       "  // register the mime type if in Jupyter Notebook environment and previously unregistered\n",
       "  if (root.Jupyter !== undefined) {\n",
       "    var events = require('base/js/events');\n",
       "    var OutputArea = require('notebook/js/outputarea').OutputArea;\n",
       "\n",
       "    if (OutputArea.prototype.mime_types().indexOf(EXEC_MIME_TYPE) == -1) {\n",
       "      register_renderer(events, OutputArea);\n",
       "    }\n",
       "  }\n",
       "\n",
       "  \n",
       "  if (typeof (root._bokeh_timeout) === \"undefined\" || force === true) {\n",
       "    root._bokeh_timeout = Date.now() + 5000;\n",
       "    root._bokeh_failed_load = false;\n",
       "  }\n",
       "\n",
       "  var NB_LOAD_WARNING = {'data': {'text/html':\n",
       "     \"<div style='background-color: #fdd'>\\n\"+\n",
       "     \"<p>\\n\"+\n",
       "     \"BokehJS does not appear to have successfully loaded. If loading BokehJS from CDN, this \\n\"+\n",
       "     \"may be due to a slow or bad network connection. Possible fixes:\\n\"+\n",
       "     \"</p>\\n\"+\n",
       "     \"<ul>\\n\"+\n",
       "     \"<li>re-rerun `output_notebook()` to attempt to load from CDN again, or</li>\\n\"+\n",
       "     \"<li>use INLINE resources instead, as so:</li>\\n\"+\n",
       "     \"</ul>\\n\"+\n",
       "     \"<code>\\n\"+\n",
       "     \"from bokeh.resources import INLINE\\n\"+\n",
       "     \"output_notebook(resources=INLINE)\\n\"+\n",
       "     \"</code>\\n\"+\n",
       "     \"</div>\"}};\n",
       "\n",
       "  function display_loaded() {\n",
       "    var el = document.getElementById(\"724723d0-3152-413e-b832-6956bd27c672\");\n",
       "    if (el != null) {\n",
       "      el.textContent = \"BokehJS is loading...\";\n",
       "    }\n",
       "    if (root.Bokeh !== undefined) {\n",
       "      if (el != null) {\n",
       "        el.textContent = \"BokehJS \" + root.Bokeh.version + \" successfully loaded.\";\n",
       "      }\n",
       "    } else if (Date.now() < root._bokeh_timeout) {\n",
       "      setTimeout(display_loaded, 100)\n",
       "    }\n",
       "  }\n",
       "\n",
       "\n",
       "  function run_callbacks() {\n",
       "    try {\n",
       "      root._bokeh_onload_callbacks.forEach(function(callback) { callback() });\n",
       "    }\n",
       "    finally {\n",
       "      delete root._bokeh_onload_callbacks\n",
       "    }\n",
       "    console.info(\"Bokeh: all callbacks have finished\");\n",
       "  }\n",
       "\n",
       "  function load_libs(js_urls, callback) {\n",
       "    root._bokeh_onload_callbacks.push(callback);\n",
       "    if (root._bokeh_is_loading > 0) {\n",
       "      console.log(\"Bokeh: BokehJS is being loaded, scheduling callback at\", now());\n",
       "      return null;\n",
       "    }\n",
       "    if (js_urls == null || js_urls.length === 0) {\n",
       "      run_callbacks();\n",
       "      return null;\n",
       "    }\n",
       "    console.log(\"Bokeh: BokehJS not loaded, scheduling load and callback at\", now());\n",
       "    root._bokeh_is_loading = js_urls.length;\n",
       "    for (var i = 0; i < js_urls.length; i++) {\n",
       "      var url = js_urls[i];\n",
       "      var s = document.createElement('script');\n",
       "      s.src = url;\n",
       "      s.async = false;\n",
       "      s.onreadystatechange = s.onload = function() {\n",
       "        root._bokeh_is_loading--;\n",
       "        if (root._bokeh_is_loading === 0) {\n",
       "          console.log(\"Bokeh: all BokehJS libraries loaded\");\n",
       "          run_callbacks()\n",
       "        }\n",
       "      };\n",
       "      s.onerror = function() {\n",
       "        console.warn(\"failed to load library \" + url);\n",
       "      };\n",
       "      console.log(\"Bokeh: injecting script tag for BokehJS library: \", url);\n",
       "      document.getElementsByTagName(\"head\")[0].appendChild(s);\n",
       "    }\n",
       "  };var element = document.getElementById(\"724723d0-3152-413e-b832-6956bd27c672\");\n",
       "  if (element == null) {\n",
       "    console.log(\"Bokeh: ERROR: autoload.js configured with elementid '724723d0-3152-413e-b832-6956bd27c672' but no matching script tag was found. \")\n",
       "    return false;\n",
       "  }\n",
       "\n",
       "  var js_urls = [\"https://cdn.pydata.org/bokeh/release/bokeh-0.13.0.min.js\", \"https://cdn.pydata.org/bokeh/release/bokeh-widgets-0.13.0.min.js\", \"https://cdn.pydata.org/bokeh/release/bokeh-tables-0.13.0.min.js\", \"https://cdn.pydata.org/bokeh/release/bokeh-gl-0.13.0.min.js\"];\n",
       "\n",
       "  var inline_js = [\n",
       "    function(Bokeh) {\n",
       "      Bokeh.set_log_level(\"info\");\n",
       "    },\n",
       "    \n",
       "    function(Bokeh) {\n",
       "      \n",
       "    },\n",
       "    function(Bokeh) {\n",
       "      console.log(\"Bokeh: injecting CSS: https://cdn.pydata.org/bokeh/release/bokeh-0.13.0.min.css\");\n",
       "      Bokeh.embed.inject_css(\"https://cdn.pydata.org/bokeh/release/bokeh-0.13.0.min.css\");\n",
       "      console.log(\"Bokeh: injecting CSS: https://cdn.pydata.org/bokeh/release/bokeh-widgets-0.13.0.min.css\");\n",
       "      Bokeh.embed.inject_css(\"https://cdn.pydata.org/bokeh/release/bokeh-widgets-0.13.0.min.css\");\n",
       "      console.log(\"Bokeh: injecting CSS: https://cdn.pydata.org/bokeh/release/bokeh-tables-0.13.0.min.css\");\n",
       "      Bokeh.embed.inject_css(\"https://cdn.pydata.org/bokeh/release/bokeh-tables-0.13.0.min.css\");\n",
       "    }\n",
       "  ];\n",
       "\n",
       "  function run_inline_js() {\n",
       "    \n",
       "    if ((root.Bokeh !== undefined) || (force === true)) {\n",
       "      for (var i = 0; i < inline_js.length; i++) {\n",
       "        inline_js[i].call(root, root.Bokeh);\n",
       "      }if (force === true) {\n",
       "        display_loaded();\n",
       "      }} else if (Date.now() < root._bokeh_timeout) {\n",
       "      setTimeout(run_inline_js, 100);\n",
       "    } else if (!root._bokeh_failed_load) {\n",
       "      console.log(\"Bokeh: BokehJS failed to load within specified timeout.\");\n",
       "      root._bokeh_failed_load = true;\n",
       "    } else if (force !== true) {\n",
       "      var cell = $(document.getElementById(\"724723d0-3152-413e-b832-6956bd27c672\")).parents('.cell').data().cell;\n",
       "      cell.output_area.append_execute_result(NB_LOAD_WARNING)\n",
       "    }\n",
       "\n",
       "  }\n",
       "\n",
       "  if (root._bokeh_is_loading === 0) {\n",
       "    console.log(\"Bokeh: BokehJS loaded, going straight to plotting\");\n",
       "    run_inline_js();\n",
       "  } else {\n",
       "    load_libs(js_urls, function() {\n",
       "      console.log(\"Bokeh: BokehJS plotting callback run at\", now());\n",
       "      run_inline_js();\n",
       "    });\n",
       "  }\n",
       "}(window));"
      ],
      "application/vnd.bokehjs_load.v0+json": "\n(function(root) {\n  function now() {\n    return new Date();\n  }\n\n  var force = true;\n\n  if (typeof (root._bokeh_onload_callbacks) === \"undefined\" || force === true) {\n    root._bokeh_onload_callbacks = [];\n    root._bokeh_is_loading = undefined;\n  }\n\n  \n\n  \n  if (typeof (root._bokeh_timeout) === \"undefined\" || force === true) {\n    root._bokeh_timeout = Date.now() + 5000;\n    root._bokeh_failed_load = false;\n  }\n\n  var NB_LOAD_WARNING = {'data': {'text/html':\n     \"<div style='background-color: #fdd'>\\n\"+\n     \"<p>\\n\"+\n     \"BokehJS does not appear to have successfully loaded. If loading BokehJS from CDN, this \\n\"+\n     \"may be due to a slow or bad network connection. Possible fixes:\\n\"+\n     \"</p>\\n\"+\n     \"<ul>\\n\"+\n     \"<li>re-rerun `output_notebook()` to attempt to load from CDN again, or</li>\\n\"+\n     \"<li>use INLINE resources instead, as so:</li>\\n\"+\n     \"</ul>\\n\"+\n     \"<code>\\n\"+\n     \"from bokeh.resources import INLINE\\n\"+\n     \"output_notebook(resources=INLINE)\\n\"+\n     \"</code>\\n\"+\n     \"</div>\"}};\n\n  function display_loaded() {\n    var el = document.getElementById(\"724723d0-3152-413e-b832-6956bd27c672\");\n    if (el != null) {\n      el.textContent = \"BokehJS is loading...\";\n    }\n    if (root.Bokeh !== undefined) {\n      if (el != null) {\n        el.textContent = \"BokehJS \" + root.Bokeh.version + \" successfully loaded.\";\n      }\n    } else if (Date.now() < root._bokeh_timeout) {\n      setTimeout(display_loaded, 100)\n    }\n  }\n\n\n  function run_callbacks() {\n    try {\n      root._bokeh_onload_callbacks.forEach(function(callback) { callback() });\n    }\n    finally {\n      delete root._bokeh_onload_callbacks\n    }\n    console.info(\"Bokeh: all callbacks have finished\");\n  }\n\n  function load_libs(js_urls, callback) {\n    root._bokeh_onload_callbacks.push(callback);\n    if (root._bokeh_is_loading > 0) {\n      console.log(\"Bokeh: BokehJS is being loaded, scheduling callback at\", now());\n      return null;\n    }\n    if (js_urls == null || js_urls.length === 0) {\n      run_callbacks();\n      return null;\n    }\n    console.log(\"Bokeh: BokehJS not loaded, scheduling load and callback at\", now());\n    root._bokeh_is_loading = js_urls.length;\n    for (var i = 0; i < js_urls.length; i++) {\n      var url = js_urls[i];\n      var s = document.createElement('script');\n      s.src = url;\n      s.async = false;\n      s.onreadystatechange = s.onload = function() {\n        root._bokeh_is_loading--;\n        if (root._bokeh_is_loading === 0) {\n          console.log(\"Bokeh: all BokehJS libraries loaded\");\n          run_callbacks()\n        }\n      };\n      s.onerror = function() {\n        console.warn(\"failed to load library \" + url);\n      };\n      console.log(\"Bokeh: injecting script tag for BokehJS library: \", url);\n      document.getElementsByTagName(\"head\")[0].appendChild(s);\n    }\n  };var element = document.getElementById(\"724723d0-3152-413e-b832-6956bd27c672\");\n  if (element == null) {\n    console.log(\"Bokeh: ERROR: autoload.js configured with elementid '724723d0-3152-413e-b832-6956bd27c672' but no matching script tag was found. \")\n    return false;\n  }\n\n  var js_urls = [\"https://cdn.pydata.org/bokeh/release/bokeh-0.13.0.min.js\", \"https://cdn.pydata.org/bokeh/release/bokeh-widgets-0.13.0.min.js\", \"https://cdn.pydata.org/bokeh/release/bokeh-tables-0.13.0.min.js\", \"https://cdn.pydata.org/bokeh/release/bokeh-gl-0.13.0.min.js\"];\n\n  var inline_js = [\n    function(Bokeh) {\n      Bokeh.set_log_level(\"info\");\n    },\n    \n    function(Bokeh) {\n      \n    },\n    function(Bokeh) {\n      console.log(\"Bokeh: injecting CSS: https://cdn.pydata.org/bokeh/release/bokeh-0.13.0.min.css\");\n      Bokeh.embed.inject_css(\"https://cdn.pydata.org/bokeh/release/bokeh-0.13.0.min.css\");\n      console.log(\"Bokeh: injecting CSS: https://cdn.pydata.org/bokeh/release/bokeh-widgets-0.13.0.min.css\");\n      Bokeh.embed.inject_css(\"https://cdn.pydata.org/bokeh/release/bokeh-widgets-0.13.0.min.css\");\n      console.log(\"Bokeh: injecting CSS: https://cdn.pydata.org/bokeh/release/bokeh-tables-0.13.0.min.css\");\n      Bokeh.embed.inject_css(\"https://cdn.pydata.org/bokeh/release/bokeh-tables-0.13.0.min.css\");\n    }\n  ];\n\n  function run_inline_js() {\n    \n    if ((root.Bokeh !== undefined) || (force === true)) {\n      for (var i = 0; i < inline_js.length; i++) {\n        inline_js[i].call(root, root.Bokeh);\n      }if (force === true) {\n        display_loaded();\n      }} else if (Date.now() < root._bokeh_timeout) {\n      setTimeout(run_inline_js, 100);\n    } else if (!root._bokeh_failed_load) {\n      console.log(\"Bokeh: BokehJS failed to load within specified timeout.\");\n      root._bokeh_failed_load = true;\n    } else if (force !== true) {\n      var cell = $(document.getElementById(\"724723d0-3152-413e-b832-6956bd27c672\")).parents('.cell').data().cell;\n      cell.output_area.append_execute_result(NB_LOAD_WARNING)\n    }\n\n  }\n\n  if (root._bokeh_is_loading === 0) {\n    console.log(\"Bokeh: BokehJS loaded, going straight to plotting\");\n    run_inline_js();\n  } else {\n    load_libs(js_urls, function() {\n      console.log(\"Bokeh: BokehJS plotting callback run at\", now());\n      run_inline_js();\n    });\n  }\n}(window));"
     },
     "metadata": {},
     "output_type": "display_data"
    }
   ],
   "source": [
    "output_notebook()"
   ]
  },
  {
   "cell_type": "code",
   "execution_count": 4,
   "metadata": {},
   "outputs": [],
   "source": [
    "base_directory = \"../../data/data_generated_medicotask_70_30_modified_v3/pytorch_submission_medico\""
   ]
  },
  {
   "cell_type": "code",
   "execution_count": 5,
   "metadata": {},
   "outputs": [
    {
     "data": {
      "text/plain": [
       "['23_4_test2_prob_softmax',\n",
       " 'test1_PROB_softmax_time',\n",
       " 'test1',\n",
       " 'test2',\n",
       " 'test1_PROB_time',\n",
       " 'test3_with_prob',\n",
       " '24_6_test3_with_prob',\n",
       " 'test3',\n",
       " 'test1_PROB']"
      ]
     },
     "execution_count": 5,
     "metadata": {},
     "output_type": "execute_result"
    }
   ],
   "source": [
    "os.listdir(base_directory)"
   ]
  },
  {
   "cell_type": "markdown",
   "metadata": {},
   "source": [
    "### Files to read data"
   ]
  },
  {
   "cell_type": "code",
   "execution_count": 6,
   "metadata": {},
   "outputs": [],
   "source": [
    "data_file_method_1 = base_directory + \"/test1_PROB_softmax_time\"\n",
    "data_file_method_2 = base_directory + \"/23_4_test2_prob_softmax\"\n",
    "data_file_method_3 = base_directory + \"/24_6_test3_with_prob\""
   ]
  },
  {
   "cell_type": "markdown",
   "metadata": {},
   "source": [
    "### Reading CSV files to dataframes"
   ]
  },
  {
   "cell_type": "code",
   "execution_count": 7,
   "metadata": {},
   "outputs": [],
   "source": [
    "data_method_1 = pd.read_csv(data_file_method_1)\n",
    "data_method_2 = pd.read_csv(data_file_method_2)\n",
    "data_method_3 = pd.read_csv(data_file_method_3)"
   ]
  },
  {
   "cell_type": "code",
   "execution_count": 8,
   "metadata": {},
   "outputs": [],
   "source": [
    "plot_data_method1 = data_method_1['labels'].value_counts()\n",
    "plot_data_method2 = data_method_2['labels'].value_counts()\n",
    "plot_data_method3 = data_method_3['labels'].value_counts()\n",
    "plot_data_method1 = plot_data_method1.to_frame().transpose()\n",
    "plot_data_method2 = plot_data_method2.to_frame().transpose()\n",
    "plot_data_method3 = plot_data_method3.to_frame().transpose()"
   ]
  },
  {
   "cell_type": "code",
   "execution_count": 9,
   "metadata": {},
   "outputs": [],
   "source": [
    "plot_data_method1 = plot_data_method1.rename(index={'labels':'method1'})\n",
    "plot_data_method2 = plot_data_method2.rename(index={'labels':'method2'})\n",
    "plot_data_method3 = plot_data_method3.rename(index={'labels':'method3'})"
   ]
  },
  {
   "cell_type": "code",
   "execution_count": 10,
   "metadata": {},
   "outputs": [],
   "source": [
    "frames = [plot_data_method1, plot_data_method2, plot_data_method3]"
   ]
  },
  {
   "cell_type": "code",
   "execution_count": 11,
   "metadata": {},
   "outputs": [],
   "source": [
    "full_data_set = pd.concat(frames, sort=False)"
   ]
  },
  {
   "cell_type": "code",
   "execution_count": 12,
   "metadata": {},
   "outputs": [
    {
     "data": {
      "text/html": [
       "<div>\n",
       "<style scoped>\n",
       "    .dataframe tbody tr th:only-of-type {\n",
       "        vertical-align: middle;\n",
       "    }\n",
       "\n",
       "    .dataframe tbody tr th {\n",
       "        vertical-align: top;\n",
       "    }\n",
       "\n",
       "    .dataframe thead th {\n",
       "        text-align: right;\n",
       "    }\n",
       "</style>\n",
       "<table border=\"1\" class=\"dataframe\">\n",
       "  <thead>\n",
       "    <tr style=\"text-align: right;\">\n",
       "      <th></th>\n",
       "      <th>stool-plenty</th>\n",
       "      <th>colon-clear</th>\n",
       "      <th>dyed-resection-margins</th>\n",
       "      <th>normal-cecum</th>\n",
       "      <th>normal-z-line</th>\n",
       "      <th>ulcerative-colitis</th>\n",
       "      <th>normal-pylorus</th>\n",
       "      <th>dyed-lifted-polyps</th>\n",
       "      <th>esophagitis</th>\n",
       "      <th>stool-inclusions</th>\n",
       "      <th>polyps</th>\n",
       "      <th>retroflex-stomach</th>\n",
       "      <th>retroflex-rectum</th>\n",
       "      <th>instruments</th>\n",
       "      <th>blurry-nothing</th>\n",
       "      <th>out-of-patient</th>\n",
       "    </tr>\n",
       "  </thead>\n",
       "  <tbody>\n",
       "    <tr>\n",
       "      <th>method1</th>\n",
       "      <td>1890</td>\n",
       "      <td>1070</td>\n",
       "      <td>620</td>\n",
       "      <td>593</td>\n",
       "      <td>592</td>\n",
       "      <td>568</td>\n",
       "      <td>566</td>\n",
       "      <td>547</td>\n",
       "      <td>528</td>\n",
       "      <td>515</td>\n",
       "      <td>450</td>\n",
       "      <td>398</td>\n",
       "      <td>187</td>\n",
       "      <td>172</td>\n",
       "      <td>39</td>\n",
       "      <td>5</td>\n",
       "    </tr>\n",
       "    <tr>\n",
       "      <th>method2</th>\n",
       "      <td>1860</td>\n",
       "      <td>1073</td>\n",
       "      <td>583</td>\n",
       "      <td>602</td>\n",
       "      <td>641</td>\n",
       "      <td>586</td>\n",
       "      <td>569</td>\n",
       "      <td>580</td>\n",
       "      <td>478</td>\n",
       "      <td>532</td>\n",
       "      <td>424</td>\n",
       "      <td>393</td>\n",
       "      <td>199</td>\n",
       "      <td>175</td>\n",
       "      <td>39</td>\n",
       "      <td>6</td>\n",
       "    </tr>\n",
       "    <tr>\n",
       "      <th>method3</th>\n",
       "      <td>1920</td>\n",
       "      <td>1070</td>\n",
       "      <td>583</td>\n",
       "      <td>604</td>\n",
       "      <td>636</td>\n",
       "      <td>551</td>\n",
       "      <td>569</td>\n",
       "      <td>590</td>\n",
       "      <td>483</td>\n",
       "      <td>508</td>\n",
       "      <td>423</td>\n",
       "      <td>399</td>\n",
       "      <td>194</td>\n",
       "      <td>165</td>\n",
       "      <td>39</td>\n",
       "      <td>6</td>\n",
       "    </tr>\n",
       "  </tbody>\n",
       "</table>\n",
       "</div>"
      ],
      "text/plain": [
       "         stool-plenty  colon-clear  dyed-resection-margins  normal-cecum  \\\n",
       "method1          1890         1070                     620           593   \n",
       "method2          1860         1073                     583           602   \n",
       "method3          1920         1070                     583           604   \n",
       "\n",
       "         normal-z-line  ulcerative-colitis  normal-pylorus  \\\n",
       "method1            592                 568             566   \n",
       "method2            641                 586             569   \n",
       "method3            636                 551             569   \n",
       "\n",
       "         dyed-lifted-polyps  esophagitis  stool-inclusions  polyps  \\\n",
       "method1                 547          528               515     450   \n",
       "method2                 580          478               532     424   \n",
       "method3                 590          483               508     423   \n",
       "\n",
       "         retroflex-stomach  retroflex-rectum  instruments  blurry-nothing  \\\n",
       "method1                398               187          172              39   \n",
       "method2                393               199          175              39   \n",
       "method3                399               194          165              39   \n",
       "\n",
       "         out-of-patient  \n",
       "method1               5  \n",
       "method2               6  \n",
       "method3               6  "
      ]
     },
     "execution_count": 12,
     "metadata": {},
     "output_type": "execute_result"
    }
   ],
   "source": [
    "full_data_set"
   ]
  },
  {
   "cell_type": "code",
   "execution_count": null,
   "metadata": {},
   "outputs": [],
   "source": []
  },
  {
   "cell_type": "markdown",
   "metadata": {},
   "source": [
    "### Taking values of all each row, heading and indexes"
   ]
  },
  {
   "cell_type": "code",
   "execution_count": 16,
   "metadata": {},
   "outputs": [],
   "source": [
    "x_values = full_data_set.columns.values"
   ]
  },
  {
   "cell_type": "code",
   "execution_count": 17,
   "metadata": {},
   "outputs": [
    {
     "data": {
      "text/plain": [
       "array(['stool-plenty', 'colon-clear', 'dyed-resection-margins',\n",
       "       'normal-cecum', 'normal-z-line', 'ulcerative-colitis',\n",
       "       'normal-pylorus', 'dyed-lifted-polyps', 'esophagitis',\n",
       "       'stool-inclusions', 'polyps', 'retroflex-stomach',\n",
       "       'retroflex-rectum', 'instruments', 'blurry-nothing',\n",
       "       'out-of-patient'], dtype=object)"
      ]
     },
     "execution_count": 17,
     "metadata": {},
     "output_type": "execute_result"
    }
   ],
   "source": [
    "x_values"
   ]
  },
  {
   "cell_type": "code",
   "execution_count": 18,
   "metadata": {},
   "outputs": [],
   "source": [
    "methods = full_data_set.index.values"
   ]
  },
  {
   "cell_type": "code",
   "execution_count": 26,
   "metadata": {},
   "outputs": [],
   "source": [
    "method1_values = full_data_set.iloc[0:1].values"
   ]
  },
  {
   "cell_type": "code",
   "execution_count": 28,
   "metadata": {},
   "outputs": [],
   "source": [
    "method1_values = method1_values.flatten()"
   ]
  },
  {
   "cell_type": "code",
   "execution_count": 29,
   "metadata": {},
   "outputs": [],
   "source": [
    "method2_values = full_data_set.iloc[1:2].values"
   ]
  },
  {
   "cell_type": "code",
   "execution_count": 31,
   "metadata": {},
   "outputs": [],
   "source": [
    "method2_values = method2_values.flatten()"
   ]
  },
  {
   "cell_type": "code",
   "execution_count": 30,
   "metadata": {},
   "outputs": [],
   "source": [
    "method3_values = full_data_set.iloc[2:].values"
   ]
  },
  {
   "cell_type": "code",
   "execution_count": 32,
   "metadata": {},
   "outputs": [],
   "source": [
    "method3_values = method3_values.flatten()"
   ]
  },
  {
   "cell_type": "code",
   "execution_count": null,
   "metadata": {},
   "outputs": [],
   "source": []
  },
  {
   "cell_type": "markdown",
   "metadata": {},
   "source": [
    "### Making a Dictionary "
   ]
  },
  {
   "cell_type": "code",
   "execution_count": 35,
   "metadata": {},
   "outputs": [],
   "source": [
    "data = {\n",
    "    'classes': x_values,\n",
    "    'method_1': method1_values,\n",
    "    'method_2':method2_values,\n",
    "    'method_3':method3_values\n",
    "}"
   ]
  },
  {
   "cell_type": "code",
   "execution_count": 37,
   "metadata": {},
   "outputs": [],
   "source": [
    "source = ColumnDataSource(data=data)"
   ]
  },
  {
   "cell_type": "markdown",
   "metadata": {},
   "source": [
    "### Plot all the Data in a Single Plot"
   ]
  },
  {
   "cell_type": "code",
   "execution_count": 110,
   "metadata": {},
   "outputs": [],
   "source": [
    "TOOLTIPS = [\n",
    "    (\"Class\", \"@classes\"),\n",
    "    (\"Method1\", \"@method_1\"),\n",
    "    (\"Method2\", \"@method_2\"),\n",
    "    (\"Method3\", \"@method_3\")\n",
    "]"
   ]
  },
  {
   "cell_type": "code",
   "execution_count": 111,
   "metadata": {},
   "outputs": [
    {
     "data": {
      "text/html": [
       "\n",
       "\n",
       "\n",
       "\n",
       "\n",
       "\n",
       "  <div class=\"bk-root\" id=\"1804e7ec-ee2c-499b-98f2-f54f96f00b93\"></div>\n"
      ]
     },
     "metadata": {},
     "output_type": "display_data"
    },
    {
     "data": {
      "application/javascript": [
       "(function(root) {\n",
       "  function embed_document(root) {\n",
       "    \n",
       "  var docs_json = {\"7ad2031f-f404-439a-bc1e-d99dd440ce26\":{\"roots\":{\"references\":[{\"attributes\":{\"callback\":null,\"renderers\":\"auto\",\"tooltips\":[[\"Class\",\"@classes\"],[\"Method1\",\"@method_1\"],[\"Method2\",\"@method_2\"],[\"Method3\",\"@method_3\"]]},\"id\":\"6f121fad-fc8b-471e-b294-e37ebfec2a56\",\"type\":\"HoverTool\"},{\"attributes\":{},\"id\":\"a749f16a-7af9-45e8-bcdc-2de72fc809b5\",\"type\":\"BasicTicker\"},{\"attributes\":{\"dimension\":1,\"plot\":{\"id\":\"29e785b2-49fe-47fa-8299-fa7294fc1189\",\"subtype\":\"Figure\",\"type\":\"Plot\"},\"ticker\":{\"id\":\"a749f16a-7af9-45e8-bcdc-2de72fc809b5\",\"type\":\"BasicTicker\"}},\"id\":\"f136d69b-cfc8-4469-b70e-5fd0bdd12c5e\",\"type\":\"Grid\"},{\"attributes\":{\"fill_color\":{\"value\":\"#c9d9d3\"},\"line_color\":{\"value\":\"#c9d9d3\"},\"top\":{\"field\":\"method_1\"},\"width\":{\"value\":0.3},\"x\":{\"field\":\"classes\",\"transform\":{\"id\":\"a5ab897d-492b-4c6b-af27-42820b2b560a\",\"type\":\"Dodge\"}}},\"id\":\"3a8cb8fa-aa4a-4774-a1e0-f414256e95f2\",\"type\":\"VBar\"},{\"attributes\":{},\"id\":\"a8120fac-361e-4b00-b30c-ec824270c7fa\",\"type\":\"BasicTickFormatter\"},{\"attributes\":{\"fill_alpha\":{\"value\":0.1},\"fill_color\":{\"value\":\"#1f77b4\"},\"line_alpha\":{\"value\":0.1},\"line_color\":{\"value\":\"#1f77b4\"},\"top\":{\"field\":\"method_1\"},\"width\":{\"value\":0.3},\"x\":{\"field\":\"classes\",\"transform\":{\"id\":\"a5ab897d-492b-4c6b-af27-42820b2b560a\",\"type\":\"Dodge\"}}},\"id\":\"70a0f3a5-bb20-4b53-8180-24f530ae7a42\",\"type\":\"VBar\"},{\"attributes\":{\"data_source\":{\"id\":\"00c21110-1eb3-4722-a223-344884c80749\",\"type\":\"ColumnDataSource\"},\"glyph\":{\"id\":\"3a8cb8fa-aa4a-4774-a1e0-f414256e95f2\",\"type\":\"VBar\"},\"hover_glyph\":null,\"muted_glyph\":null,\"nonselection_glyph\":{\"id\":\"70a0f3a5-bb20-4b53-8180-24f530ae7a42\",\"type\":\"VBar\"},\"selection_glyph\":null,\"view\":{\"id\":\"5fec68fd-033b-45aa-9387-243ca10379b0\",\"type\":\"CDSView\"}},\"id\":\"9056dd95-4dbf-451f-85e0-19261c9558eb\",\"type\":\"GlyphRenderer\"},{\"attributes\":{\"source\":{\"id\":\"00c21110-1eb3-4722-a223-344884c80749\",\"type\":\"ColumnDataSource\"}},\"id\":\"5fec68fd-033b-45aa-9387-243ca10379b0\",\"type\":\"CDSView\"},{\"attributes\":{},\"id\":\"5024a2c3-8e1e-43e4-8115-c7a284d89e66\",\"type\":\"CategoricalTickFormatter\"},{\"attributes\":{\"items\":[{\"id\":\"fb2782a7-3204-46e8-aacb-d78b51f4c681\",\"type\":\"LegendItem\"},{\"id\":\"7cb1adc5-5f24-45cb-8cd8-d8f7bfb0925f\",\"type\":\"LegendItem\"},{\"id\":\"4766f97a-5542-4f89-a5e2-33a6729ffcef\",\"type\":\"LegendItem\"}],\"orientation\":\"horizontal\",\"plot\":{\"id\":\"29e785b2-49fe-47fa-8299-fa7294fc1189\",\"subtype\":\"Figure\",\"type\":\"Plot\"}},\"id\":\"d0fe3691-c33a-4032-94b5-114744e00a05\",\"type\":\"Legend\"},{\"attributes\":{},\"id\":\"aaa44004-7d94-414a-b21a-e7ad789b9bd8\",\"type\":\"CategoricalScale\"},{\"attributes\":{\"label\":{\"value\":\"method_1\"},\"renderers\":[{\"id\":\"9056dd95-4dbf-451f-85e0-19261c9558eb\",\"type\":\"GlyphRenderer\"}]},\"id\":\"fb2782a7-3204-46e8-aacb-d78b51f4c681\",\"type\":\"LegendItem\"},{\"attributes\":{\"source\":{\"id\":\"00c21110-1eb3-4722-a223-344884c80749\",\"type\":\"ColumnDataSource\"}},\"id\":\"b569c90e-bed4-4bf3-9d19-637eabd1b5eb\",\"type\":\"CDSView\"},{\"attributes\":{\"label\":{\"value\":\"method_3\"},\"renderers\":[{\"id\":\"cd4dd7eb-5839-48d7-bf42-12ae053cef7a\",\"type\":\"GlyphRenderer\"}]},\"id\":\"4766f97a-5542-4f89-a5e2-33a6729ffcef\",\"type\":\"LegendItem\"},{\"attributes\":{\"range\":{\"id\":\"e9b67ae6-d799-475a-b1a7-4ad081b8ce14\",\"type\":\"FactorRange\"},\"value\":0.3},\"id\":\"60a89790-fa8e-4a0f-ad43-bc284afc5229\",\"type\":\"Dodge\"},{\"attributes\":{\"fill_color\":{\"value\":\"#718dbf\"},\"line_color\":{\"value\":\"#718dbf\"},\"top\":{\"field\":\"method_2\"},\"width\":{\"value\":0.3},\"x\":{\"field\":\"classes\",\"transform\":{\"id\":\"2014e1f7-0165-4164-a013-6e78687bc36d\",\"type\":\"Dodge\"}}},\"id\":\"b1b2ec58-a936-47a6-b808-4f1c4ebd7b29\",\"type\":\"VBar\"},{\"attributes\":{\"plot\":null,\"text\":\"Number of Classifications based on Methods\"},\"id\":\"43653280-be1a-45b1-a651-74da901f3fca\",\"type\":\"Title\"},{\"attributes\":{},\"id\":\"471e5ed5-6ae6-4605-8e7f-12ae797f2536\",\"type\":\"Selection\"},{\"attributes\":{\"fill_alpha\":{\"value\":0.1},\"fill_color\":{\"value\":\"#1f77b4\"},\"line_alpha\":{\"value\":0.1},\"line_color\":{\"value\":\"#1f77b4\"},\"top\":{\"field\":\"method_2\"},\"width\":{\"value\":0.3},\"x\":{\"field\":\"classes\",\"transform\":{\"id\":\"2014e1f7-0165-4164-a013-6e78687bc36d\",\"type\":\"Dodge\"}}},\"id\":\"f9b01701-f364-4a35-a12d-5943a4824947\",\"type\":\"VBar\"},{\"attributes\":{\"fill_color\":{\"value\":\"#e84d60\"},\"line_color\":{\"value\":\"#e84d60\"},\"top\":{\"field\":\"method_3\"},\"width\":{\"value\":0.3},\"x\":{\"field\":\"classes\",\"transform\":{\"id\":\"60a89790-fa8e-4a0f-ad43-bc284afc5229\",\"type\":\"Dodge\"}}},\"id\":\"0fe189e1-4599-46b4-bb55-cc709450ea09\",\"type\":\"VBar\"},{\"attributes\":{\"data_source\":{\"id\":\"00c21110-1eb3-4722-a223-344884c80749\",\"type\":\"ColumnDataSource\"},\"glyph\":{\"id\":\"b1b2ec58-a936-47a6-b808-4f1c4ebd7b29\",\"type\":\"VBar\"},\"hover_glyph\":null,\"muted_glyph\":null,\"nonselection_glyph\":{\"id\":\"f9b01701-f364-4a35-a12d-5943a4824947\",\"type\":\"VBar\"},\"selection_glyph\":null,\"view\":{\"id\":\"88079bb5-cb0f-4091-8120-4a435a9711bc\",\"type\":\"CDSView\"}},\"id\":\"ab14e075-81dc-47f8-9b86-66d44544fb33\",\"type\":\"GlyphRenderer\"},{\"attributes\":{\"fill_alpha\":{\"value\":0.1},\"fill_color\":{\"value\":\"#1f77b4\"},\"line_alpha\":{\"value\":0.1},\"line_color\":{\"value\":\"#1f77b4\"},\"top\":{\"field\":\"method_3\"},\"width\":{\"value\":0.3},\"x\":{\"field\":\"classes\",\"transform\":{\"id\":\"60a89790-fa8e-4a0f-ad43-bc284afc5229\",\"type\":\"Dodge\"}}},\"id\":\"4b8aadb6-420e-43e1-a8b3-9d83cf1fe7dc\",\"type\":\"VBar\"},{\"attributes\":{},\"id\":\"970ba848-82e4-450d-b0a7-6a961aea62a7\",\"type\":\"UnionRenderers\"},{\"attributes\":{\"formatter\":{\"id\":\"a8120fac-361e-4b00-b30c-ec824270c7fa\",\"type\":\"BasicTickFormatter\"},\"plot\":{\"id\":\"29e785b2-49fe-47fa-8299-fa7294fc1189\",\"subtype\":\"Figure\",\"type\":\"Plot\"},\"ticker\":{\"id\":\"a749f16a-7af9-45e8-bcdc-2de72fc809b5\",\"type\":\"BasicTicker\"}},\"id\":\"415d719d-73ea-4fe5-8f9d-653bd1882b4a\",\"type\":\"LinearAxis\"},{\"attributes\":{\"source\":{\"id\":\"00c21110-1eb3-4722-a223-344884c80749\",\"type\":\"ColumnDataSource\"}},\"id\":\"88079bb5-cb0f-4091-8120-4a435a9711bc\",\"type\":\"CDSView\"},{\"attributes\":{\"label\":{\"value\":\"method_2\"},\"renderers\":[{\"id\":\"ab14e075-81dc-47f8-9b86-66d44544fb33\",\"type\":\"GlyphRenderer\"}]},\"id\":\"7cb1adc5-5f24-45cb-8cd8-d8f7bfb0925f\",\"type\":\"LegendItem\"},{\"attributes\":{\"data_source\":{\"id\":\"00c21110-1eb3-4722-a223-344884c80749\",\"type\":\"ColumnDataSource\"},\"glyph\":{\"id\":\"0fe189e1-4599-46b4-bb55-cc709450ea09\",\"type\":\"VBar\"},\"hover_glyph\":null,\"muted_glyph\":null,\"nonselection_glyph\":{\"id\":\"4b8aadb6-420e-43e1-a8b3-9d83cf1fe7dc\",\"type\":\"VBar\"},\"selection_glyph\":null,\"view\":{\"id\":\"b569c90e-bed4-4bf3-9d19-637eabd1b5eb\",\"type\":\"CDSView\"}},\"id\":\"cd4dd7eb-5839-48d7-bf42-12ae053cef7a\",\"type\":\"GlyphRenderer\"},{\"attributes\":{\"grid_line_color\":{\"value\":null},\"plot\":{\"id\":\"29e785b2-49fe-47fa-8299-fa7294fc1189\",\"subtype\":\"Figure\",\"type\":\"Plot\"},\"ticker\":{\"id\":\"b310ad7b-8d18-48dd-ad72-b840197afe18\",\"type\":\"CategoricalTicker\"}},\"id\":\"12453c7b-7480-4c57-b352-6dcf776f3f43\",\"type\":\"Grid\"},{\"attributes\":{\"callback\":null,\"data\":{\"classes\":[\"stool-plenty\",\"colon-clear\",\"dyed-resection-margins\",\"normal-cecum\",\"normal-z-line\",\"ulcerative-colitis\",\"normal-pylorus\",\"dyed-lifted-polyps\",\"esophagitis\",\"stool-inclusions\",\"polyps\",\"retroflex-stomach\",\"retroflex-rectum\",\"instruments\",\"blurry-nothing\",\"out-of-patient\"],\"method_1\":[1890,1070,620,593,592,568,566,547,528,515,450,398,187,172,39,5],\"method_2\":[1860,1073,583,602,641,586,569,580,478,532,424,393,199,175,39,6],\"method_3\":[1920,1070,583,604,636,551,569,590,483,508,423,399,194,165,39,6]},\"selected\":{\"id\":\"471e5ed5-6ae6-4605-8e7f-12ae797f2536\",\"type\":\"Selection\"},\"selection_policy\":{\"id\":\"970ba848-82e4-450d-b0a7-6a961aea62a7\",\"type\":\"UnionRenderers\"}},\"id\":\"00c21110-1eb3-4722-a223-344884c80749\",\"type\":\"ColumnDataSource\"},{\"attributes\":{\"range\":{\"id\":\"e9b67ae6-d799-475a-b1a7-4ad081b8ce14\",\"type\":\"FactorRange\"}},\"id\":\"2014e1f7-0165-4164-a013-6e78687bc36d\",\"type\":\"Dodge\"},{\"attributes\":{\"callback\":null,\"start\":0},\"id\":\"89a2694b-9107-49b0-bdf3-81a917e2d42b\",\"type\":\"DataRange1d\"},{\"attributes\":{\"range\":{\"id\":\"e9b67ae6-d799-475a-b1a7-4ad081b8ce14\",\"type\":\"FactorRange\"},\"value\":-0.3},\"id\":\"a5ab897d-492b-4c6b-af27-42820b2b560a\",\"type\":\"Dodge\"},{\"attributes\":{},\"id\":\"b310ad7b-8d18-48dd-ad72-b840197afe18\",\"type\":\"CategoricalTicker\"},{\"attributes\":{\"below\":[{\"id\":\"df6a753c-c579-4475-be4a-982ecb2e3215\",\"type\":\"CategoricalAxis\"}],\"left\":[{\"id\":\"415d719d-73ea-4fe5-8f9d-653bd1882b4a\",\"type\":\"LinearAxis\"}],\"plot_height\":500,\"plot_width\":900,\"renderers\":[{\"id\":\"df6a753c-c579-4475-be4a-982ecb2e3215\",\"type\":\"CategoricalAxis\"},{\"id\":\"12453c7b-7480-4c57-b352-6dcf776f3f43\",\"type\":\"Grid\"},{\"id\":\"415d719d-73ea-4fe5-8f9d-653bd1882b4a\",\"type\":\"LinearAxis\"},{\"id\":\"f136d69b-cfc8-4469-b70e-5fd0bdd12c5e\",\"type\":\"Grid\"},{\"id\":\"d0fe3691-c33a-4032-94b5-114744e00a05\",\"type\":\"Legend\"},{\"id\":\"9056dd95-4dbf-451f-85e0-19261c9558eb\",\"type\":\"GlyphRenderer\"},{\"id\":\"ab14e075-81dc-47f8-9b86-66d44544fb33\",\"type\":\"GlyphRenderer\"},{\"id\":\"cd4dd7eb-5839-48d7-bf42-12ae053cef7a\",\"type\":\"GlyphRenderer\"}],\"title\":{\"id\":\"43653280-be1a-45b1-a651-74da901f3fca\",\"type\":\"Title\"},\"toolbar\":{\"id\":\"3e834940-6fd7-40e0-8c27-aa2a0fe6f988\",\"type\":\"Toolbar\"},\"toolbar_location\":null,\"x_range\":{\"id\":\"e9b67ae6-d799-475a-b1a7-4ad081b8ce14\",\"type\":\"FactorRange\"},\"x_scale\":{\"id\":\"aaa44004-7d94-414a-b21a-e7ad789b9bd8\",\"type\":\"CategoricalScale\"},\"y_range\":{\"id\":\"89a2694b-9107-49b0-bdf3-81a917e2d42b\",\"type\":\"DataRange1d\"},\"y_scale\":{\"id\":\"2589ac29-07d4-4768-aaaa-2062b3594c3e\",\"type\":\"LinearScale\"}},\"id\":\"29e785b2-49fe-47fa-8299-fa7294fc1189\",\"subtype\":\"Figure\",\"type\":\"Plot\"},{\"attributes\":{\"callback\":null,\"factors\":[\"stool-plenty\",\"colon-clear\",\"dyed-resection-margins\",\"normal-cecum\",\"normal-z-line\",\"ulcerative-colitis\",\"normal-pylorus\",\"dyed-lifted-polyps\",\"esophagitis\",\"stool-inclusions\",\"polyps\",\"retroflex-stomach\",\"retroflex-rectum\",\"instruments\",\"blurry-nothing\",\"out-of-patient\"]},\"id\":\"e9b67ae6-d799-475a-b1a7-4ad081b8ce14\",\"type\":\"FactorRange\"},{\"attributes\":{},\"id\":\"2589ac29-07d4-4768-aaaa-2062b3594c3e\",\"type\":\"LinearScale\"},{\"attributes\":{\"active_drag\":\"auto\",\"active_inspect\":\"auto\",\"active_multi\":null,\"active_scroll\":\"auto\",\"active_tap\":\"auto\",\"tools\":[{\"id\":\"6f121fad-fc8b-471e-b294-e37ebfec2a56\",\"type\":\"HoverTool\"}]},\"id\":\"3e834940-6fd7-40e0-8c27-aa2a0fe6f988\",\"type\":\"Toolbar\"},{\"attributes\":{\"formatter\":{\"id\":\"5024a2c3-8e1e-43e4-8115-c7a284d89e66\",\"type\":\"CategoricalTickFormatter\"},\"major_label_orientation\":1,\"plot\":{\"id\":\"29e785b2-49fe-47fa-8299-fa7294fc1189\",\"subtype\":\"Figure\",\"type\":\"Plot\"},\"ticker\":{\"id\":\"b310ad7b-8d18-48dd-ad72-b840197afe18\",\"type\":\"CategoricalTicker\"}},\"id\":\"df6a753c-c579-4475-be4a-982ecb2e3215\",\"type\":\"CategoricalAxis\"}],\"root_ids\":[\"29e785b2-49fe-47fa-8299-fa7294fc1189\"]},\"title\":\"Bokeh Application\",\"version\":\"0.13.0\"}};\n",
       "  var render_items = [{\"docid\":\"7ad2031f-f404-439a-bc1e-d99dd440ce26\",\"roots\":{\"29e785b2-49fe-47fa-8299-fa7294fc1189\":\"1804e7ec-ee2c-499b-98f2-f54f96f00b93\"}}];\n",
       "  root.Bokeh.embed.embed_items_notebook(docs_json, render_items);\n",
       "\n",
       "  }\n",
       "  if (root.Bokeh !== undefined) {\n",
       "    embed_document(root);\n",
       "  } else {\n",
       "    var attempts = 0;\n",
       "    var timer = setInterval(function(root) {\n",
       "      if (root.Bokeh !== undefined) {\n",
       "        embed_document(root);\n",
       "        clearInterval(timer);\n",
       "      }\n",
       "      attempts++;\n",
       "      if (attempts > 100) {\n",
       "        console.log(\"Bokeh: ERROR: Unable to run BokehJS code because BokehJS library is missing\")\n",
       "        clearInterval(timer);\n",
       "      }\n",
       "    }, 10, root)\n",
       "  }\n",
       "})(window);"
      ],
      "application/vnd.bokehjs_exec.v0+json": ""
     },
     "metadata": {
      "application/vnd.bokehjs_exec.v0+json": {
       "id": "29e785b2-49fe-47fa-8299-fa7294fc1189"
      }
     },
     "output_type": "display_data"
    }
   ],
   "source": [
    "# main figure\n",
    "p_new = figure(x_range = x_values, plot_height = 500, plot_width=900, title = 'Number of Classifications based on Methods',\n",
    "              toolbar_location=None, tools =\"hover\", tooltips = TOOLTIPS)\n",
    "\n",
    "# bar values\n",
    "p_new.vbar(x=dodge('classes', -0.3, range=p_new.x_range), \n",
    "           top='method_1', width=0.3, source=source, color =\"#c9d9d3\", legend=value(\"method_1\") )\n",
    "p_new.vbar(x=dodge('classes', 0.0, range=p_new.x_range), \n",
    "           top='method_2', width=0.3, source=source, color =\"#718dbf\", legend=value(\"method_2\") )\n",
    "p_new.vbar(x=dodge('classes', 0.3, range=p_new.x_range), \n",
    "           top='method_3', width=0.3, source=source, color =\"#e84d60\", legend=value(\"method_3\") )\n",
    "\n",
    "# additional properties\n",
    "p_new.y_range.start = 0\n",
    "p_new.x_range.range_padding = 0.0\n",
    "p_new.xgrid.grid_line_color = None\n",
    "p_new.legend.location = \"top_right\"\n",
    "p_new.legend.orientation = \"horizontal\"\n",
    "p_new.xaxis.major_label_orientation =1\n",
    "\n",
    "# show the plot\n",
    "show(p_new)"
   ]
  },
  {
   "cell_type": "markdown",
   "metadata": {},
   "source": [
    "# End of the Report"
   ]
  },
  {
   "cell_type": "markdown",
   "metadata": {},
   "source": [
    "### To see the full interactive plot, please click on the following links"
   ]
  },
  {
   "cell_type": "markdown",
   "metadata": {},
   "source": [
    "## [Link - To NBviewer - Results of MediocTask 2018](https://nbviewer.jupyter.org/github/vlbthambawita/medico_2018_results/blob/master/analyse_test_data_medico-v2.ipynb)"
   ]
  },
  {
   "cell_type": "markdown",
   "metadata": {},
   "source": [
    "## Try Above link"
   ]
  },
  {
   "cell_type": "code",
   "execution_count": null,
   "metadata": {},
   "outputs": [],
   "source": []
  }
 ],
 "metadata": {
  "kernelspec": {
   "display_name": "Python 3",
   "language": "python",
   "name": "python3"
  },
  "language_info": {
   "codemirror_mode": {
    "name": "ipython",
    "version": 3
   },
   "file_extension": ".py",
   "mimetype": "text/x-python",
   "name": "python",
   "nbconvert_exporter": "python",
   "pygments_lexer": "ipython3",
   "version": "3.6.5"
  }
 },
 "nbformat": 4,
 "nbformat_minor": 2
}
