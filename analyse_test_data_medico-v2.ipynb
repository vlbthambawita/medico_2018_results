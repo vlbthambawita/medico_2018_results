{
 "cells": [
  {
   "cell_type": "code",
   "execution_count": 1,
   "metadata": {},
   "outputs": [],
   "source": [
    "from bokeh.io import output_notebook\n",
    "from bokeh.plotting import figure, show\n",
    "from bokeh.transform import factor_cmap\n",
    "from bokeh.palettes import Spectral6,Magma256, Category20\n",
    "from bokeh.models import ColumnDataSource\n",
    "from bokeh.transform import dodge\n",
    "from bokeh.core.properties import value\n",
    "import os"
   ]
  },
  {
   "cell_type": "code",
   "execution_count": 2,
   "metadata": {},
   "outputs": [],
   "source": [
    "import pandas as pd"
   ]
  },
  {
   "cell_type": "code",
   "execution_count": 3,
   "metadata": {},
   "outputs": [
    {
     "data": {
      "text/html": [
       "\n",
       "    <div class=\"bk-root\">\n",
       "        <a href=\"https://bokeh.pydata.org\" target=\"_blank\" class=\"bk-logo bk-logo-small bk-logo-notebook\"></a>\n",
       "        <span id=\"de45f413-9616-4f81-8cd0-240ab8b94b26\">Loading BokehJS ...</span>\n",
       "    </div>"
      ]
     },
     "metadata": {},
     "output_type": "display_data"
    },
    {
     "data": {
      "application/javascript": [
       "\n",
       "(function(root) {\n",
       "  function now() {\n",
       "    return new Date();\n",
       "  }\n",
       "\n",
       "  var force = true;\n",
       "\n",
       "  if (typeof (root._bokeh_onload_callbacks) === \"undefined\" || force === true) {\n",
       "    root._bokeh_onload_callbacks = [];\n",
       "    root._bokeh_is_loading = undefined;\n",
       "  }\n",
       "\n",
       "  var JS_MIME_TYPE = 'application/javascript';\n",
       "  var HTML_MIME_TYPE = 'text/html';\n",
       "  var EXEC_MIME_TYPE = 'application/vnd.bokehjs_exec.v0+json';\n",
       "  var CLASS_NAME = 'output_bokeh rendered_html';\n",
       "\n",
       "  /**\n",
       "   * Render data to the DOM node\n",
       "   */\n",
       "  function render(props, node) {\n",
       "    var script = document.createElement(\"script\");\n",
       "    node.appendChild(script);\n",
       "  }\n",
       "\n",
       "  /**\n",
       "   * Handle when an output is cleared or removed\n",
       "   */\n",
       "  function handleClearOutput(event, handle) {\n",
       "    var cell = handle.cell;\n",
       "\n",
       "    var id = cell.output_area._bokeh_element_id;\n",
       "    var server_id = cell.output_area._bokeh_server_id;\n",
       "    // Clean up Bokeh references\n",
       "    if (id != null && id in Bokeh.index) {\n",
       "      Bokeh.index[id].model.document.clear();\n",
       "      delete Bokeh.index[id];\n",
       "    }\n",
       "\n",
       "    if (server_id !== undefined) {\n",
       "      // Clean up Bokeh references\n",
       "      var cmd = \"from bokeh.io.state import curstate; print(curstate().uuid_to_server['\" + server_id + \"'].get_sessions()[0].document.roots[0]._id)\";\n",
       "      cell.notebook.kernel.execute(cmd, {\n",
       "        iopub: {\n",
       "          output: function(msg) {\n",
       "            var id = msg.content.text.trim();\n",
       "            if (id in Bokeh.index) {\n",
       "              Bokeh.index[id].model.document.clear();\n",
       "              delete Bokeh.index[id];\n",
       "            }\n",
       "          }\n",
       "        }\n",
       "      });\n",
       "      // Destroy server and session\n",
       "      var cmd = \"import bokeh.io.notebook as ion; ion.destroy_server('\" + server_id + \"')\";\n",
       "      cell.notebook.kernel.execute(cmd);\n",
       "    }\n",
       "  }\n",
       "\n",
       "  /**\n",
       "   * Handle when a new output is added\n",
       "   */\n",
       "  function handleAddOutput(event, handle) {\n",
       "    var output_area = handle.output_area;\n",
       "    var output = handle.output;\n",
       "\n",
       "    // limit handleAddOutput to display_data with EXEC_MIME_TYPE content only\n",
       "    if ((output.output_type != \"display_data\") || (!output.data.hasOwnProperty(EXEC_MIME_TYPE))) {\n",
       "      return\n",
       "    }\n",
       "\n",
       "    var toinsert = output_area.element.find(\".\" + CLASS_NAME.split(' ')[0]);\n",
       "\n",
       "    if (output.metadata[EXEC_MIME_TYPE][\"id\"] !== undefined) {\n",
       "      toinsert[toinsert.length - 1].firstChild.textContent = output.data[JS_MIME_TYPE];\n",
       "      // store reference to embed id on output_area\n",
       "      output_area._bokeh_element_id = output.metadata[EXEC_MIME_TYPE][\"id\"];\n",
       "    }\n",
       "    if (output.metadata[EXEC_MIME_TYPE][\"server_id\"] !== undefined) {\n",
       "      var bk_div = document.createElement(\"div\");\n",
       "      bk_div.innerHTML = output.data[HTML_MIME_TYPE];\n",
       "      var script_attrs = bk_div.children[0].attributes;\n",
       "      for (var i = 0; i < script_attrs.length; i++) {\n",
       "        toinsert[toinsert.length - 1].firstChild.setAttribute(script_attrs[i].name, script_attrs[i].value);\n",
       "      }\n",
       "      // store reference to server id on output_area\n",
       "      output_area._bokeh_server_id = output.metadata[EXEC_MIME_TYPE][\"server_id\"];\n",
       "    }\n",
       "  }\n",
       "\n",
       "  function register_renderer(events, OutputArea) {\n",
       "\n",
       "    function append_mime(data, metadata, element) {\n",
       "      // create a DOM node to render to\n",
       "      var toinsert = this.create_output_subarea(\n",
       "        metadata,\n",
       "        CLASS_NAME,\n",
       "        EXEC_MIME_TYPE\n",
       "      );\n",
       "      this.keyboard_manager.register_events(toinsert);\n",
       "      // Render to node\n",
       "      var props = {data: data, metadata: metadata[EXEC_MIME_TYPE]};\n",
       "      render(props, toinsert[toinsert.length - 1]);\n",
       "      element.append(toinsert);\n",
       "      return toinsert\n",
       "    }\n",
       "\n",
       "    /* Handle when an output is cleared or removed */\n",
       "    events.on('clear_output.CodeCell', handleClearOutput);\n",
       "    events.on('delete.Cell', handleClearOutput);\n",
       "\n",
       "    /* Handle when a new output is added */\n",
       "    events.on('output_added.OutputArea', handleAddOutput);\n",
       "\n",
       "    /**\n",
       "     * Register the mime type and append_mime function with output_area\n",
       "     */\n",
       "    OutputArea.prototype.register_mime_type(EXEC_MIME_TYPE, append_mime, {\n",
       "      /* Is output safe? */\n",
       "      safe: true,\n",
       "      /* Index of renderer in `output_area.display_order` */\n",
       "      index: 0\n",
       "    });\n",
       "  }\n",
       "\n",
       "  // register the mime type if in Jupyter Notebook environment and previously unregistered\n",
       "  if (root.Jupyter !== undefined) {\n",
       "    var events = require('base/js/events');\n",
       "    var OutputArea = require('notebook/js/outputarea').OutputArea;\n",
       "\n",
       "    if (OutputArea.prototype.mime_types().indexOf(EXEC_MIME_TYPE) == -1) {\n",
       "      register_renderer(events, OutputArea);\n",
       "    }\n",
       "  }\n",
       "\n",
       "  \n",
       "  if (typeof (root._bokeh_timeout) === \"undefined\" || force === true) {\n",
       "    root._bokeh_timeout = Date.now() + 5000;\n",
       "    root._bokeh_failed_load = false;\n",
       "  }\n",
       "\n",
       "  var NB_LOAD_WARNING = {'data': {'text/html':\n",
       "     \"<div style='background-color: #fdd'>\\n\"+\n",
       "     \"<p>\\n\"+\n",
       "     \"BokehJS does not appear to have successfully loaded. If loading BokehJS from CDN, this \\n\"+\n",
       "     \"may be due to a slow or bad network connection. Possible fixes:\\n\"+\n",
       "     \"</p>\\n\"+\n",
       "     \"<ul>\\n\"+\n",
       "     \"<li>re-rerun `output_notebook()` to attempt to load from CDN again, or</li>\\n\"+\n",
       "     \"<li>use INLINE resources instead, as so:</li>\\n\"+\n",
       "     \"</ul>\\n\"+\n",
       "     \"<code>\\n\"+\n",
       "     \"from bokeh.resources import INLINE\\n\"+\n",
       "     \"output_notebook(resources=INLINE)\\n\"+\n",
       "     \"</code>\\n\"+\n",
       "     \"</div>\"}};\n",
       "\n",
       "  function display_loaded() {\n",
       "    var el = document.getElementById(\"de45f413-9616-4f81-8cd0-240ab8b94b26\");\n",
       "    if (el != null) {\n",
       "      el.textContent = \"BokehJS is loading...\";\n",
       "    }\n",
       "    if (root.Bokeh !== undefined) {\n",
       "      if (el != null) {\n",
       "        el.textContent = \"BokehJS \" + root.Bokeh.version + \" successfully loaded.\";\n",
       "      }\n",
       "    } else if (Date.now() < root._bokeh_timeout) {\n",
       "      setTimeout(display_loaded, 100)\n",
       "    }\n",
       "  }\n",
       "\n",
       "\n",
       "  function run_callbacks() {\n",
       "    try {\n",
       "      root._bokeh_onload_callbacks.forEach(function(callback) { callback() });\n",
       "    }\n",
       "    finally {\n",
       "      delete root._bokeh_onload_callbacks\n",
       "    }\n",
       "    console.info(\"Bokeh: all callbacks have finished\");\n",
       "  }\n",
       "\n",
       "  function load_libs(js_urls, callback) {\n",
       "    root._bokeh_onload_callbacks.push(callback);\n",
       "    if (root._bokeh_is_loading > 0) {\n",
       "      console.log(\"Bokeh: BokehJS is being loaded, scheduling callback at\", now());\n",
       "      return null;\n",
       "    }\n",
       "    if (js_urls == null || js_urls.length === 0) {\n",
       "      run_callbacks();\n",
       "      return null;\n",
       "    }\n",
       "    console.log(\"Bokeh: BokehJS not loaded, scheduling load and callback at\", now());\n",
       "    root._bokeh_is_loading = js_urls.length;\n",
       "    for (var i = 0; i < js_urls.length; i++) {\n",
       "      var url = js_urls[i];\n",
       "      var s = document.createElement('script');\n",
       "      s.src = url;\n",
       "      s.async = false;\n",
       "      s.onreadystatechange = s.onload = function() {\n",
       "        root._bokeh_is_loading--;\n",
       "        if (root._bokeh_is_loading === 0) {\n",
       "          console.log(\"Bokeh: all BokehJS libraries loaded\");\n",
       "          run_callbacks()\n",
       "        }\n",
       "      };\n",
       "      s.onerror = function() {\n",
       "        console.warn(\"failed to load library \" + url);\n",
       "      };\n",
       "      console.log(\"Bokeh: injecting script tag for BokehJS library: \", url);\n",
       "      document.getElementsByTagName(\"head\")[0].appendChild(s);\n",
       "    }\n",
       "  };var element = document.getElementById(\"de45f413-9616-4f81-8cd0-240ab8b94b26\");\n",
       "  if (element == null) {\n",
       "    console.log(\"Bokeh: ERROR: autoload.js configured with elementid 'de45f413-9616-4f81-8cd0-240ab8b94b26' but no matching script tag was found. \")\n",
       "    return false;\n",
       "  }\n",
       "\n",
       "  var js_urls = [\"https://cdn.pydata.org/bokeh/release/bokeh-0.13.0.min.js\", \"https://cdn.pydata.org/bokeh/release/bokeh-widgets-0.13.0.min.js\", \"https://cdn.pydata.org/bokeh/release/bokeh-tables-0.13.0.min.js\", \"https://cdn.pydata.org/bokeh/release/bokeh-gl-0.13.0.min.js\"];\n",
       "\n",
       "  var inline_js = [\n",
       "    function(Bokeh) {\n",
       "      Bokeh.set_log_level(\"info\");\n",
       "    },\n",
       "    \n",
       "    function(Bokeh) {\n",
       "      \n",
       "    },\n",
       "    function(Bokeh) {\n",
       "      console.log(\"Bokeh: injecting CSS: https://cdn.pydata.org/bokeh/release/bokeh-0.13.0.min.css\");\n",
       "      Bokeh.embed.inject_css(\"https://cdn.pydata.org/bokeh/release/bokeh-0.13.0.min.css\");\n",
       "      console.log(\"Bokeh: injecting CSS: https://cdn.pydata.org/bokeh/release/bokeh-widgets-0.13.0.min.css\");\n",
       "      Bokeh.embed.inject_css(\"https://cdn.pydata.org/bokeh/release/bokeh-widgets-0.13.0.min.css\");\n",
       "      console.log(\"Bokeh: injecting CSS: https://cdn.pydata.org/bokeh/release/bokeh-tables-0.13.0.min.css\");\n",
       "      Bokeh.embed.inject_css(\"https://cdn.pydata.org/bokeh/release/bokeh-tables-0.13.0.min.css\");\n",
       "    }\n",
       "  ];\n",
       "\n",
       "  function run_inline_js() {\n",
       "    \n",
       "    if ((root.Bokeh !== undefined) || (force === true)) {\n",
       "      for (var i = 0; i < inline_js.length; i++) {\n",
       "        inline_js[i].call(root, root.Bokeh);\n",
       "      }if (force === true) {\n",
       "        display_loaded();\n",
       "      }} else if (Date.now() < root._bokeh_timeout) {\n",
       "      setTimeout(run_inline_js, 100);\n",
       "    } else if (!root._bokeh_failed_load) {\n",
       "      console.log(\"Bokeh: BokehJS failed to load within specified timeout.\");\n",
       "      root._bokeh_failed_load = true;\n",
       "    } else if (force !== true) {\n",
       "      var cell = $(document.getElementById(\"de45f413-9616-4f81-8cd0-240ab8b94b26\")).parents('.cell').data().cell;\n",
       "      cell.output_area.append_execute_result(NB_LOAD_WARNING)\n",
       "    }\n",
       "\n",
       "  }\n",
       "\n",
       "  if (root._bokeh_is_loading === 0) {\n",
       "    console.log(\"Bokeh: BokehJS loaded, going straight to plotting\");\n",
       "    run_inline_js();\n",
       "  } else {\n",
       "    load_libs(js_urls, function() {\n",
       "      console.log(\"Bokeh: BokehJS plotting callback run at\", now());\n",
       "      run_inline_js();\n",
       "    });\n",
       "  }\n",
       "}(window));"
      ],
      "application/vnd.bokehjs_load.v0+json": "\n(function(root) {\n  function now() {\n    return new Date();\n  }\n\n  var force = true;\n\n  if (typeof (root._bokeh_onload_callbacks) === \"undefined\" || force === true) {\n    root._bokeh_onload_callbacks = [];\n    root._bokeh_is_loading = undefined;\n  }\n\n  \n\n  \n  if (typeof (root._bokeh_timeout) === \"undefined\" || force === true) {\n    root._bokeh_timeout = Date.now() + 5000;\n    root._bokeh_failed_load = false;\n  }\n\n  var NB_LOAD_WARNING = {'data': {'text/html':\n     \"<div style='background-color: #fdd'>\\n\"+\n     \"<p>\\n\"+\n     \"BokehJS does not appear to have successfully loaded. If loading BokehJS from CDN, this \\n\"+\n     \"may be due to a slow or bad network connection. Possible fixes:\\n\"+\n     \"</p>\\n\"+\n     \"<ul>\\n\"+\n     \"<li>re-rerun `output_notebook()` to attempt to load from CDN again, or</li>\\n\"+\n     \"<li>use INLINE resources instead, as so:</li>\\n\"+\n     \"</ul>\\n\"+\n     \"<code>\\n\"+\n     \"from bokeh.resources import INLINE\\n\"+\n     \"output_notebook(resources=INLINE)\\n\"+\n     \"</code>\\n\"+\n     \"</div>\"}};\n\n  function display_loaded() {\n    var el = document.getElementById(\"de45f413-9616-4f81-8cd0-240ab8b94b26\");\n    if (el != null) {\n      el.textContent = \"BokehJS is loading...\";\n    }\n    if (root.Bokeh !== undefined) {\n      if (el != null) {\n        el.textContent = \"BokehJS \" + root.Bokeh.version + \" successfully loaded.\";\n      }\n    } else if (Date.now() < root._bokeh_timeout) {\n      setTimeout(display_loaded, 100)\n    }\n  }\n\n\n  function run_callbacks() {\n    try {\n      root._bokeh_onload_callbacks.forEach(function(callback) { callback() });\n    }\n    finally {\n      delete root._bokeh_onload_callbacks\n    }\n    console.info(\"Bokeh: all callbacks have finished\");\n  }\n\n  function load_libs(js_urls, callback) {\n    root._bokeh_onload_callbacks.push(callback);\n    if (root._bokeh_is_loading > 0) {\n      console.log(\"Bokeh: BokehJS is being loaded, scheduling callback at\", now());\n      return null;\n    }\n    if (js_urls == null || js_urls.length === 0) {\n      run_callbacks();\n      return null;\n    }\n    console.log(\"Bokeh: BokehJS not loaded, scheduling load and callback at\", now());\n    root._bokeh_is_loading = js_urls.length;\n    for (var i = 0; i < js_urls.length; i++) {\n      var url = js_urls[i];\n      var s = document.createElement('script');\n      s.src = url;\n      s.async = false;\n      s.onreadystatechange = s.onload = function() {\n        root._bokeh_is_loading--;\n        if (root._bokeh_is_loading === 0) {\n          console.log(\"Bokeh: all BokehJS libraries loaded\");\n          run_callbacks()\n        }\n      };\n      s.onerror = function() {\n        console.warn(\"failed to load library \" + url);\n      };\n      console.log(\"Bokeh: injecting script tag for BokehJS library: \", url);\n      document.getElementsByTagName(\"head\")[0].appendChild(s);\n    }\n  };var element = document.getElementById(\"de45f413-9616-4f81-8cd0-240ab8b94b26\");\n  if (element == null) {\n    console.log(\"Bokeh: ERROR: autoload.js configured with elementid 'de45f413-9616-4f81-8cd0-240ab8b94b26' but no matching script tag was found. \")\n    return false;\n  }\n\n  var js_urls = [\"https://cdn.pydata.org/bokeh/release/bokeh-0.13.0.min.js\", \"https://cdn.pydata.org/bokeh/release/bokeh-widgets-0.13.0.min.js\", \"https://cdn.pydata.org/bokeh/release/bokeh-tables-0.13.0.min.js\", \"https://cdn.pydata.org/bokeh/release/bokeh-gl-0.13.0.min.js\"];\n\n  var inline_js = [\n    function(Bokeh) {\n      Bokeh.set_log_level(\"info\");\n    },\n    \n    function(Bokeh) {\n      \n    },\n    function(Bokeh) {\n      console.log(\"Bokeh: injecting CSS: https://cdn.pydata.org/bokeh/release/bokeh-0.13.0.min.css\");\n      Bokeh.embed.inject_css(\"https://cdn.pydata.org/bokeh/release/bokeh-0.13.0.min.css\");\n      console.log(\"Bokeh: injecting CSS: https://cdn.pydata.org/bokeh/release/bokeh-widgets-0.13.0.min.css\");\n      Bokeh.embed.inject_css(\"https://cdn.pydata.org/bokeh/release/bokeh-widgets-0.13.0.min.css\");\n      console.log(\"Bokeh: injecting CSS: https://cdn.pydata.org/bokeh/release/bokeh-tables-0.13.0.min.css\");\n      Bokeh.embed.inject_css(\"https://cdn.pydata.org/bokeh/release/bokeh-tables-0.13.0.min.css\");\n    }\n  ];\n\n  function run_inline_js() {\n    \n    if ((root.Bokeh !== undefined) || (force === true)) {\n      for (var i = 0; i < inline_js.length; i++) {\n        inline_js[i].call(root, root.Bokeh);\n      }if (force === true) {\n        display_loaded();\n      }} else if (Date.now() < root._bokeh_timeout) {\n      setTimeout(run_inline_js, 100);\n    } else if (!root._bokeh_failed_load) {\n      console.log(\"Bokeh: BokehJS failed to load within specified timeout.\");\n      root._bokeh_failed_load = true;\n    } else if (force !== true) {\n      var cell = $(document.getElementById(\"de45f413-9616-4f81-8cd0-240ab8b94b26\")).parents('.cell').data().cell;\n      cell.output_area.append_execute_result(NB_LOAD_WARNING)\n    }\n\n  }\n\n  if (root._bokeh_is_loading === 0) {\n    console.log(\"Bokeh: BokehJS loaded, going straight to plotting\");\n    run_inline_js();\n  } else {\n    load_libs(js_urls, function() {\n      console.log(\"Bokeh: BokehJS plotting callback run at\", now());\n      run_inline_js();\n    });\n  }\n}(window));"
     },
     "metadata": {},
     "output_type": "display_data"
    }
   ],
   "source": [
    "output_notebook()"
   ]
  },
  {
   "cell_type": "code",
   "execution_count": 4,
   "metadata": {},
   "outputs": [],
   "source": [
    "base_directory = \"../../data/data_generated_medicotask_70_30_modified_v3/pytorch_submission_medico\""
   ]
  },
  {
   "cell_type": "code",
   "execution_count": 5,
   "metadata": {},
   "outputs": [
    {
     "data": {
      "text/plain": [
       "['23_4_test2_prob_softmax',\n",
       " 'test1_PROB_softmax_time',\n",
       " 'test1',\n",
       " 'test2',\n",
       " 'test1_PROB_time',\n",
       " 'test3_with_prob',\n",
       " '24_6_test3_with_prob',\n",
       " 'test3',\n",
       " 'test1_PROB']"
      ]
     },
     "execution_count": 5,
     "metadata": {},
     "output_type": "execute_result"
    }
   ],
   "source": [
    "os.listdir(base_directory)"
   ]
  },
  {
   "cell_type": "markdown",
   "metadata": {},
   "source": [
    "### Files to read data"
   ]
  },
  {
   "cell_type": "code",
   "execution_count": 6,
   "metadata": {},
   "outputs": [],
   "source": [
    "data_file_method_1 = base_directory + \"/test1_PROB_softmax_time\"\n",
    "data_file_method_2 = base_directory + \"/23_4_test2_prob_softmax\"\n",
    "data_file_method_3 = base_directory + \"/24_6_test3_with_prob\""
   ]
  },
  {
   "cell_type": "markdown",
   "metadata": {},
   "source": [
    "### Reading CSV files to dataframes"
   ]
  },
  {
   "cell_type": "code",
   "execution_count": 7,
   "metadata": {},
   "outputs": [],
   "source": [
    "data_method_1 = pd.read_csv(data_file_method_1)\n",
    "data_method_2 = pd.read_csv(data_file_method_2)\n",
    "data_method_3 = pd.read_csv(data_file_method_3)"
   ]
  },
  {
   "cell_type": "code",
   "execution_count": 8,
   "metadata": {},
   "outputs": [],
   "source": [
    "plot_data_method1 = data_method_1['labels'].value_counts()\n",
    "plot_data_method2 = data_method_2['labels'].value_counts()\n",
    "plot_data_method3 = data_method_3['labels'].value_counts()\n",
    "plot_data_method1 = plot_data_method1.to_frame().transpose()\n",
    "plot_data_method2 = plot_data_method2.to_frame().transpose()\n",
    "plot_data_method3 = plot_data_method3.to_frame().transpose()"
   ]
  },
  {
   "cell_type": "code",
   "execution_count": 9,
   "metadata": {},
   "outputs": [],
   "source": [
    "plot_data_method1 = plot_data_method1.rename(index={'labels':'method1'})\n",
    "plot_data_method2 = plot_data_method2.rename(index={'labels':'method2'})\n",
    "plot_data_method3 = plot_data_method3.rename(index={'labels':'method3'})"
   ]
  },
  {
   "cell_type": "code",
   "execution_count": 10,
   "metadata": {},
   "outputs": [],
   "source": [
    "frames = [plot_data_method1, plot_data_method2, plot_data_method3]"
   ]
  },
  {
   "cell_type": "code",
   "execution_count": 11,
   "metadata": {},
   "outputs": [],
   "source": [
    "full_data_set = pd.concat(frames, sort=False)"
   ]
  },
  {
   "cell_type": "code",
   "execution_count": 12,
   "metadata": {},
   "outputs": [
    {
     "data": {
      "text/html": [
       "<div>\n",
       "<style scoped>\n",
       "    .dataframe tbody tr th:only-of-type {\n",
       "        vertical-align: middle;\n",
       "    }\n",
       "\n",
       "    .dataframe tbody tr th {\n",
       "        vertical-align: top;\n",
       "    }\n",
       "\n",
       "    .dataframe thead th {\n",
       "        text-align: right;\n",
       "    }\n",
       "</style>\n",
       "<table border=\"1\" class=\"dataframe\">\n",
       "  <thead>\n",
       "    <tr style=\"text-align: right;\">\n",
       "      <th></th>\n",
       "      <th>stool-plenty</th>\n",
       "      <th>colon-clear</th>\n",
       "      <th>dyed-resection-margins</th>\n",
       "      <th>normal-cecum</th>\n",
       "      <th>normal-z-line</th>\n",
       "      <th>ulcerative-colitis</th>\n",
       "      <th>normal-pylorus</th>\n",
       "      <th>dyed-lifted-polyps</th>\n",
       "      <th>esophagitis</th>\n",
       "      <th>stool-inclusions</th>\n",
       "      <th>polyps</th>\n",
       "      <th>retroflex-stomach</th>\n",
       "      <th>retroflex-rectum</th>\n",
       "      <th>instruments</th>\n",
       "      <th>blurry-nothing</th>\n",
       "      <th>out-of-patient</th>\n",
       "    </tr>\n",
       "  </thead>\n",
       "  <tbody>\n",
       "    <tr>\n",
       "      <th>method1</th>\n",
       "      <td>1890</td>\n",
       "      <td>1070</td>\n",
       "      <td>620</td>\n",
       "      <td>593</td>\n",
       "      <td>592</td>\n",
       "      <td>568</td>\n",
       "      <td>566</td>\n",
       "      <td>547</td>\n",
       "      <td>528</td>\n",
       "      <td>515</td>\n",
       "      <td>450</td>\n",
       "      <td>398</td>\n",
       "      <td>187</td>\n",
       "      <td>172</td>\n",
       "      <td>39</td>\n",
       "      <td>5</td>\n",
       "    </tr>\n",
       "    <tr>\n",
       "      <th>method2</th>\n",
       "      <td>1860</td>\n",
       "      <td>1073</td>\n",
       "      <td>583</td>\n",
       "      <td>602</td>\n",
       "      <td>641</td>\n",
       "      <td>586</td>\n",
       "      <td>569</td>\n",
       "      <td>580</td>\n",
       "      <td>478</td>\n",
       "      <td>532</td>\n",
       "      <td>424</td>\n",
       "      <td>393</td>\n",
       "      <td>199</td>\n",
       "      <td>175</td>\n",
       "      <td>39</td>\n",
       "      <td>6</td>\n",
       "    </tr>\n",
       "    <tr>\n",
       "      <th>method3</th>\n",
       "      <td>1920</td>\n",
       "      <td>1070</td>\n",
       "      <td>583</td>\n",
       "      <td>604</td>\n",
       "      <td>636</td>\n",
       "      <td>551</td>\n",
       "      <td>569</td>\n",
       "      <td>590</td>\n",
       "      <td>483</td>\n",
       "      <td>508</td>\n",
       "      <td>423</td>\n",
       "      <td>399</td>\n",
       "      <td>194</td>\n",
       "      <td>165</td>\n",
       "      <td>39</td>\n",
       "      <td>6</td>\n",
       "    </tr>\n",
       "  </tbody>\n",
       "</table>\n",
       "</div>"
      ],
      "text/plain": [
       "         stool-plenty  colon-clear  dyed-resection-margins  normal-cecum  \\\n",
       "method1          1890         1070                     620           593   \n",
       "method2          1860         1073                     583           602   \n",
       "method3          1920         1070                     583           604   \n",
       "\n",
       "         normal-z-line  ulcerative-colitis  normal-pylorus  \\\n",
       "method1            592                 568             566   \n",
       "method2            641                 586             569   \n",
       "method3            636                 551             569   \n",
       "\n",
       "         dyed-lifted-polyps  esophagitis  stool-inclusions  polyps  \\\n",
       "method1                 547          528               515     450   \n",
       "method2                 580          478               532     424   \n",
       "method3                 590          483               508     423   \n",
       "\n",
       "         retroflex-stomach  retroflex-rectum  instruments  blurry-nothing  \\\n",
       "method1                398               187          172              39   \n",
       "method2                393               199          175              39   \n",
       "method3                399               194          165              39   \n",
       "\n",
       "         out-of-patient  \n",
       "method1               5  \n",
       "method2               6  \n",
       "method3               6  "
      ]
     },
     "execution_count": 12,
     "metadata": {},
     "output_type": "execute_result"
    }
   ],
   "source": [
    "full_data_set"
   ]
  },
  {
   "cell_type": "code",
   "execution_count": null,
   "metadata": {},
   "outputs": [],
   "source": []
  },
  {
   "cell_type": "markdown",
   "metadata": {},
   "source": [
    "### Taking values of all each row, heading and indexes"
   ]
  },
  {
   "cell_type": "code",
   "execution_count": 13,
   "metadata": {},
   "outputs": [],
   "source": [
    "x_values = full_data_set.columns.values"
   ]
  },
  {
   "cell_type": "code",
   "execution_count": 14,
   "metadata": {},
   "outputs": [
    {
     "data": {
      "text/plain": [
       "array(['stool-plenty', 'colon-clear', 'dyed-resection-margins',\n",
       "       'normal-cecum', 'normal-z-line', 'ulcerative-colitis',\n",
       "       'normal-pylorus', 'dyed-lifted-polyps', 'esophagitis',\n",
       "       'stool-inclusions', 'polyps', 'retroflex-stomach',\n",
       "       'retroflex-rectum', 'instruments', 'blurry-nothing',\n",
       "       'out-of-patient'], dtype=object)"
      ]
     },
     "execution_count": 14,
     "metadata": {},
     "output_type": "execute_result"
    }
   ],
   "source": [
    "x_values"
   ]
  },
  {
   "cell_type": "code",
   "execution_count": 15,
   "metadata": {},
   "outputs": [],
   "source": [
    "methods = full_data_set.index.values"
   ]
  },
  {
   "cell_type": "code",
   "execution_count": 16,
   "metadata": {},
   "outputs": [],
   "source": [
    "method1_values = full_data_set.iloc[0:1].values"
   ]
  },
  {
   "cell_type": "code",
   "execution_count": 17,
   "metadata": {},
   "outputs": [],
   "source": [
    "method1_values = method1_values.flatten()"
   ]
  },
  {
   "cell_type": "code",
   "execution_count": 18,
   "metadata": {},
   "outputs": [],
   "source": [
    "method2_values = full_data_set.iloc[1:2].values"
   ]
  },
  {
   "cell_type": "code",
   "execution_count": 19,
   "metadata": {},
   "outputs": [],
   "source": [
    "method2_values = method2_values.flatten()"
   ]
  },
  {
   "cell_type": "code",
   "execution_count": 20,
   "metadata": {},
   "outputs": [],
   "source": [
    "method3_values = full_data_set.iloc[2:].values"
   ]
  },
  {
   "cell_type": "code",
   "execution_count": 21,
   "metadata": {},
   "outputs": [],
   "source": [
    "method3_values = method3_values.flatten()"
   ]
  },
  {
   "cell_type": "code",
   "execution_count": null,
   "metadata": {},
   "outputs": [],
   "source": []
  },
  {
   "cell_type": "markdown",
   "metadata": {},
   "source": [
    "### Making a Dictionary "
   ]
  },
  {
   "cell_type": "code",
   "execution_count": 22,
   "metadata": {},
   "outputs": [],
   "source": [
    "data = {\n",
    "    'classes': x_values,\n",
    "    'method_1': method1_values,\n",
    "    'method_2':method2_values,\n",
    "    'method_3':method3_values\n",
    "}"
   ]
  },
  {
   "cell_type": "code",
   "execution_count": 23,
   "metadata": {},
   "outputs": [],
   "source": [
    "source = ColumnDataSource(data=data)"
   ]
  },
  {
   "cell_type": "markdown",
   "metadata": {},
   "source": [
    "### Plot all the Data in a Single Plot"
   ]
  },
  {
   "cell_type": "code",
   "execution_count": 24,
   "metadata": {},
   "outputs": [],
   "source": [
    "TOOLTIPS = [\n",
    "    (\"Class\", \"@classes\"),\n",
    "    (\"Method1\", \"@method_1\"),\n",
    "    (\"Method2\", \"@method_2\"),\n",
    "    (\"Method3\", \"@method_3\")\n",
    "]"
   ]
  },
  {
   "cell_type": "code",
   "execution_count": 25,
   "metadata": {},
   "outputs": [
    {
     "data": {
      "text/html": [
       "\n",
       "\n",
       "\n",
       "\n",
       "\n",
       "\n",
       "  <div class=\"bk-root\" id=\"70295129-e721-48cd-877a-05d8a2cb0b5b\"></div>\n"
      ]
     },
     "metadata": {},
     "output_type": "display_data"
    },
    {
     "data": {
      "application/javascript": [
       "(function(root) {\n",
       "  function embed_document(root) {\n",
       "    \n",
       "  var docs_json = {\"80f18012-8fc7-437a-9bd0-11e5fb21de16\":{\"roots\":{\"references\":[{\"attributes\":{\"source\":{\"id\":\"53a7b94e-84b5-4a84-973d-acaa04164a94\",\"type\":\"ColumnDataSource\"}},\"id\":\"f349ec5c-1843-4116-9029-ab8c722a32e1\",\"type\":\"CDSView\"},{\"attributes\":{\"active_drag\":\"auto\",\"active_inspect\":\"auto\",\"active_multi\":null,\"active_scroll\":\"auto\",\"active_tap\":\"auto\",\"tools\":[{\"id\":\"28d0862e-e962-41d0-bfcb-244f05617e54\",\"type\":\"HoverTool\"}]},\"id\":\"55274633-355b-4d01-ba2d-a46158b0768e\",\"type\":\"Toolbar\"},{\"attributes\":{},\"id\":\"5b22d64b-ad97-4161-8eb9-ac3f77a9fb0f\",\"type\":\"CategoricalTickFormatter\"},{\"attributes\":{},\"id\":\"a9b63816-69e5-4b9c-b8d3-ce996b55ed95\",\"type\":\"BasicTickFormatter\"},{\"attributes\":{\"range\":{\"id\":\"023a4df3-aa05-4e1c-8a77-1e3d93f76c25\",\"type\":\"FactorRange\"},\"value\":0.3},\"id\":\"33382cdd-c390-4303-8647-4f36d293090d\",\"type\":\"Dodge\"},{\"attributes\":{\"data_source\":{\"id\":\"53a7b94e-84b5-4a84-973d-acaa04164a94\",\"type\":\"ColumnDataSource\"},\"glyph\":{\"id\":\"23e1ebbb-5fc9-4eb7-81df-16783aae84bc\",\"type\":\"VBar\"},\"hover_glyph\":null,\"muted_glyph\":null,\"nonselection_glyph\":{\"id\":\"ad3b0f55-5dc9-4f39-8ff4-d410b6739b1b\",\"type\":\"VBar\"},\"selection_glyph\":null,\"view\":{\"id\":\"87eb4a7c-21ed-478e-9aac-a418ac0f7aa7\",\"type\":\"CDSView\"}},\"id\":\"febb7f29-564b-416a-93a1-e90c6df6fdcd\",\"type\":\"GlyphRenderer\"},{\"attributes\":{\"label\":{\"value\":\"method_3\"},\"renderers\":[{\"id\":\"febb7f29-564b-416a-93a1-e90c6df6fdcd\",\"type\":\"GlyphRenderer\"}]},\"id\":\"6465c2be-2772-468c-8f4f-7c1c6055ab67\",\"type\":\"LegendItem\"},{\"attributes\":{\"fill_color\":{\"value\":\"#718dbf\"},\"line_color\":{\"value\":\"#718dbf\"},\"top\":{\"field\":\"method_2\"},\"width\":{\"value\":0.3},\"x\":{\"field\":\"classes\",\"transform\":{\"id\":\"2e28385f-aac1-4de8-bdb8-8893c01dfa74\",\"type\":\"Dodge\"}}},\"id\":\"b47b562b-7c17-44cf-952a-3df7a028aa0b\",\"type\":\"VBar\"},{\"attributes\":{\"fill_alpha\":{\"value\":0.1},\"fill_color\":{\"value\":\"#1f77b4\"},\"line_alpha\":{\"value\":0.1},\"line_color\":{\"value\":\"#1f77b4\"},\"top\":{\"field\":\"method_2\"},\"width\":{\"value\":0.3},\"x\":{\"field\":\"classes\",\"transform\":{\"id\":\"2e28385f-aac1-4de8-bdb8-8893c01dfa74\",\"type\":\"Dodge\"}}},\"id\":\"8a1fd8fa-3a29-4f1c-b1d3-d0ef3734fcc5\",\"type\":\"VBar\"},{\"attributes\":{\"data_source\":{\"id\":\"53a7b94e-84b5-4a84-973d-acaa04164a94\",\"type\":\"ColumnDataSource\"},\"glyph\":{\"id\":\"b47b562b-7c17-44cf-952a-3df7a028aa0b\",\"type\":\"VBar\"},\"hover_glyph\":null,\"muted_glyph\":null,\"nonselection_glyph\":{\"id\":\"8a1fd8fa-3a29-4f1c-b1d3-d0ef3734fcc5\",\"type\":\"VBar\"},\"selection_glyph\":null,\"view\":{\"id\":\"81446581-351d-4d0a-a5a7-39729f924888\",\"type\":\"CDSView\"}},\"id\":\"1bed69e7-6f9e-497d-8acd-4891bbc4719e\",\"type\":\"GlyphRenderer\"},{\"attributes\":{\"source\":{\"id\":\"53a7b94e-84b5-4a84-973d-acaa04164a94\",\"type\":\"ColumnDataSource\"}},\"id\":\"81446581-351d-4d0a-a5a7-39729f924888\",\"type\":\"CDSView\"},{\"attributes\":{},\"id\":\"b8a9fff6-5666-40c7-8fe8-d519b16467c9\",\"type\":\"Selection\"},{\"attributes\":{},\"id\":\"7bf5eec8-3787-458a-9c70-a6a06d98488f\",\"type\":\"UnionRenderers\"},{\"attributes\":{\"label\":{\"value\":\"method_2\"},\"renderers\":[{\"id\":\"1bed69e7-6f9e-497d-8acd-4891bbc4719e\",\"type\":\"GlyphRenderer\"}]},\"id\":\"ec7c37a7-3122-4bb5-847b-492e620a5208\",\"type\":\"LegendItem\"},{\"attributes\":{\"range\":{\"id\":\"023a4df3-aa05-4e1c-8a77-1e3d93f76c25\",\"type\":\"FactorRange\"},\"value\":-0.3},\"id\":\"fdead7cd-8fdb-46ff-bc4c-9476497e691e\",\"type\":\"Dodge\"},{\"attributes\":{\"source\":{\"id\":\"53a7b94e-84b5-4a84-973d-acaa04164a94\",\"type\":\"ColumnDataSource\"}},\"id\":\"87eb4a7c-21ed-478e-9aac-a418ac0f7aa7\",\"type\":\"CDSView\"},{\"attributes\":{\"below\":[{\"id\":\"0c8c7537-082e-4e05-ba1f-8d15c5b11fd8\",\"type\":\"CategoricalAxis\"}],\"left\":[{\"id\":\"d714729c-fa56-424d-877f-685832d6bbd1\",\"type\":\"LinearAxis\"}],\"plot_height\":500,\"plot_width\":900,\"renderers\":[{\"id\":\"0c8c7537-082e-4e05-ba1f-8d15c5b11fd8\",\"type\":\"CategoricalAxis\"},{\"id\":\"eab281f6-618a-43a0-8362-9b7df4038686\",\"type\":\"Grid\"},{\"id\":\"d714729c-fa56-424d-877f-685832d6bbd1\",\"type\":\"LinearAxis\"},{\"id\":\"d654ce15-196e-47fd-b673-c211bf90559b\",\"type\":\"Grid\"},{\"id\":\"39faf056-daad-422f-bed3-527618f9e260\",\"type\":\"Legend\"},{\"id\":\"c456c91a-ab09-42dc-8409-9ba94a7b5111\",\"type\":\"GlyphRenderer\"},{\"id\":\"1bed69e7-6f9e-497d-8acd-4891bbc4719e\",\"type\":\"GlyphRenderer\"},{\"id\":\"febb7f29-564b-416a-93a1-e90c6df6fdcd\",\"type\":\"GlyphRenderer\"}],\"title\":{\"id\":\"51d0db4d-3e1d-40d5-b7cf-daa7936334b5\",\"type\":\"Title\"},\"toolbar\":{\"id\":\"55274633-355b-4d01-ba2d-a46158b0768e\",\"type\":\"Toolbar\"},\"toolbar_location\":null,\"x_range\":{\"id\":\"023a4df3-aa05-4e1c-8a77-1e3d93f76c25\",\"type\":\"FactorRange\"},\"x_scale\":{\"id\":\"09b201b3-2566-4026-91cf-391e8f5aaf01\",\"type\":\"CategoricalScale\"},\"y_range\":{\"id\":\"43c87a17-39a0-4cc7-99db-c205fbd988c6\",\"type\":\"DataRange1d\"},\"y_scale\":{\"id\":\"14b24708-5c36-4555-b546-e2015dde2b00\",\"type\":\"LinearScale\"}},\"id\":\"8ca65a65-d8f7-438f-a6a7-b6d062b70c97\",\"subtype\":\"Figure\",\"type\":\"Plot\"},{\"attributes\":{\"fill_color\":{\"value\":\"#e84d60\"},\"line_color\":{\"value\":\"#e84d60\"},\"top\":{\"field\":\"method_3\"},\"width\":{\"value\":0.3},\"x\":{\"field\":\"classes\",\"transform\":{\"id\":\"33382cdd-c390-4303-8647-4f36d293090d\",\"type\":\"Dodge\"}}},\"id\":\"23e1ebbb-5fc9-4eb7-81df-16783aae84bc\",\"type\":\"VBar\"},{\"attributes\":{\"range\":{\"id\":\"023a4df3-aa05-4e1c-8a77-1e3d93f76c25\",\"type\":\"FactorRange\"}},\"id\":\"2e28385f-aac1-4de8-bdb8-8893c01dfa74\",\"type\":\"Dodge\"},{\"attributes\":{\"plot\":null,\"text\":\"Number of Classifications based on Methods\"},\"id\":\"51d0db4d-3e1d-40d5-b7cf-daa7936334b5\",\"type\":\"Title\"},{\"attributes\":{\"label\":{\"value\":\"method_1\"},\"renderers\":[{\"id\":\"c456c91a-ab09-42dc-8409-9ba94a7b5111\",\"type\":\"GlyphRenderer\"}]},\"id\":\"0394d21c-8a27-4113-b4e8-d939950bfa18\",\"type\":\"LegendItem\"},{\"attributes\":{\"callback\":null,\"factors\":[\"stool-plenty\",\"colon-clear\",\"dyed-resection-margins\",\"normal-cecum\",\"normal-z-line\",\"ulcerative-colitis\",\"normal-pylorus\",\"dyed-lifted-polyps\",\"esophagitis\",\"stool-inclusions\",\"polyps\",\"retroflex-stomach\",\"retroflex-rectum\",\"instruments\",\"blurry-nothing\",\"out-of-patient\"]},\"id\":\"023a4df3-aa05-4e1c-8a77-1e3d93f76c25\",\"type\":\"FactorRange\"},{\"attributes\":{},\"id\":\"09b201b3-2566-4026-91cf-391e8f5aaf01\",\"type\":\"CategoricalScale\"},{\"attributes\":{\"callback\":null,\"start\":0},\"id\":\"43c87a17-39a0-4cc7-99db-c205fbd988c6\",\"type\":\"DataRange1d\"},{\"attributes\":{},\"id\":\"14b24708-5c36-4555-b546-e2015dde2b00\",\"type\":\"LinearScale\"},{\"attributes\":{\"formatter\":{\"id\":\"a9b63816-69e5-4b9c-b8d3-ce996b55ed95\",\"type\":\"BasicTickFormatter\"},\"plot\":{\"id\":\"8ca65a65-d8f7-438f-a6a7-b6d062b70c97\",\"subtype\":\"Figure\",\"type\":\"Plot\"},\"ticker\":{\"id\":\"93f72931-0ef2-4eac-bf8c-78282885726d\",\"type\":\"BasicTicker\"}},\"id\":\"d714729c-fa56-424d-877f-685832d6bbd1\",\"type\":\"LinearAxis\"},{\"attributes\":{\"formatter\":{\"id\":\"5b22d64b-ad97-4161-8eb9-ac3f77a9fb0f\",\"type\":\"CategoricalTickFormatter\"},\"major_label_orientation\":1,\"plot\":{\"id\":\"8ca65a65-d8f7-438f-a6a7-b6d062b70c97\",\"subtype\":\"Figure\",\"type\":\"Plot\"},\"ticker\":{\"id\":\"27cfc8ee-992a-4fdb-bd77-38d0890c98f1\",\"type\":\"CategoricalTicker\"}},\"id\":\"0c8c7537-082e-4e05-ba1f-8d15c5b11fd8\",\"type\":\"CategoricalAxis\"},{\"attributes\":{},\"id\":\"27cfc8ee-992a-4fdb-bd77-38d0890c98f1\",\"type\":\"CategoricalTicker\"},{\"attributes\":{\"grid_line_color\":{\"value\":null},\"plot\":{\"id\":\"8ca65a65-d8f7-438f-a6a7-b6d062b70c97\",\"subtype\":\"Figure\",\"type\":\"Plot\"},\"ticker\":{\"id\":\"27cfc8ee-992a-4fdb-bd77-38d0890c98f1\",\"type\":\"CategoricalTicker\"}},\"id\":\"eab281f6-618a-43a0-8362-9b7df4038686\",\"type\":\"Grid\"},{\"attributes\":{\"callback\":null,\"renderers\":\"auto\",\"tooltips\":[[\"Class\",\"@classes\"],[\"Method1\",\"@method_1\"],[\"Method2\",\"@method_2\"],[\"Method3\",\"@method_3\"]]},\"id\":\"28d0862e-e962-41d0-bfcb-244f05617e54\",\"type\":\"HoverTool\"},{\"attributes\":{},\"id\":\"93f72931-0ef2-4eac-bf8c-78282885726d\",\"type\":\"BasicTicker\"},{\"attributes\":{\"dimension\":1,\"plot\":{\"id\":\"8ca65a65-d8f7-438f-a6a7-b6d062b70c97\",\"subtype\":\"Figure\",\"type\":\"Plot\"},\"ticker\":{\"id\":\"93f72931-0ef2-4eac-bf8c-78282885726d\",\"type\":\"BasicTicker\"}},\"id\":\"d654ce15-196e-47fd-b673-c211bf90559b\",\"type\":\"Grid\"},{\"attributes\":{\"fill_color\":{\"value\":\"#c9d9d3\"},\"line_color\":{\"value\":\"#c9d9d3\"},\"top\":{\"field\":\"method_1\"},\"width\":{\"value\":0.3},\"x\":{\"field\":\"classes\",\"transform\":{\"id\":\"fdead7cd-8fdb-46ff-bc4c-9476497e691e\",\"type\":\"Dodge\"}}},\"id\":\"0a0c0545-e580-4b8c-bdfa-f5981ed96efb\",\"type\":\"VBar\"},{\"attributes\":{\"callback\":null,\"data\":{\"classes\":[\"stool-plenty\",\"colon-clear\",\"dyed-resection-margins\",\"normal-cecum\",\"normal-z-line\",\"ulcerative-colitis\",\"normal-pylorus\",\"dyed-lifted-polyps\",\"esophagitis\",\"stool-inclusions\",\"polyps\",\"retroflex-stomach\",\"retroflex-rectum\",\"instruments\",\"blurry-nothing\",\"out-of-patient\"],\"method_1\":[1890,1070,620,593,592,568,566,547,528,515,450,398,187,172,39,5],\"method_2\":[1860,1073,583,602,641,586,569,580,478,532,424,393,199,175,39,6],\"method_3\":[1920,1070,583,604,636,551,569,590,483,508,423,399,194,165,39,6]},\"selected\":{\"id\":\"b8a9fff6-5666-40c7-8fe8-d519b16467c9\",\"type\":\"Selection\"},\"selection_policy\":{\"id\":\"7bf5eec8-3787-458a-9c70-a6a06d98488f\",\"type\":\"UnionRenderers\"}},\"id\":\"53a7b94e-84b5-4a84-973d-acaa04164a94\",\"type\":\"ColumnDataSource\"},{\"attributes\":{\"data_source\":{\"id\":\"53a7b94e-84b5-4a84-973d-acaa04164a94\",\"type\":\"ColumnDataSource\"},\"glyph\":{\"id\":\"0a0c0545-e580-4b8c-bdfa-f5981ed96efb\",\"type\":\"VBar\"},\"hover_glyph\":null,\"muted_glyph\":null,\"nonselection_glyph\":{\"id\":\"554fe303-9945-45a2-8433-32adba739868\",\"type\":\"VBar\"},\"selection_glyph\":null,\"view\":{\"id\":\"f349ec5c-1843-4116-9029-ab8c722a32e1\",\"type\":\"CDSView\"}},\"id\":\"c456c91a-ab09-42dc-8409-9ba94a7b5111\",\"type\":\"GlyphRenderer\"},{\"attributes\":{\"fill_alpha\":{\"value\":0.1},\"fill_color\":{\"value\":\"#1f77b4\"},\"line_alpha\":{\"value\":0.1},\"line_color\":{\"value\":\"#1f77b4\"},\"top\":{\"field\":\"method_3\"},\"width\":{\"value\":0.3},\"x\":{\"field\":\"classes\",\"transform\":{\"id\":\"33382cdd-c390-4303-8647-4f36d293090d\",\"type\":\"Dodge\"}}},\"id\":\"ad3b0f55-5dc9-4f39-8ff4-d410b6739b1b\",\"type\":\"VBar\"},{\"attributes\":{\"items\":[{\"id\":\"0394d21c-8a27-4113-b4e8-d939950bfa18\",\"type\":\"LegendItem\"},{\"id\":\"ec7c37a7-3122-4bb5-847b-492e620a5208\",\"type\":\"LegendItem\"},{\"id\":\"6465c2be-2772-468c-8f4f-7c1c6055ab67\",\"type\":\"LegendItem\"}],\"orientation\":\"horizontal\",\"plot\":{\"id\":\"8ca65a65-d8f7-438f-a6a7-b6d062b70c97\",\"subtype\":\"Figure\",\"type\":\"Plot\"}},\"id\":\"39faf056-daad-422f-bed3-527618f9e260\",\"type\":\"Legend\"},{\"attributes\":{\"fill_alpha\":{\"value\":0.1},\"fill_color\":{\"value\":\"#1f77b4\"},\"line_alpha\":{\"value\":0.1},\"line_color\":{\"value\":\"#1f77b4\"},\"top\":{\"field\":\"method_1\"},\"width\":{\"value\":0.3},\"x\":{\"field\":\"classes\",\"transform\":{\"id\":\"fdead7cd-8fdb-46ff-bc4c-9476497e691e\",\"type\":\"Dodge\"}}},\"id\":\"554fe303-9945-45a2-8433-32adba739868\",\"type\":\"VBar\"}],\"root_ids\":[\"8ca65a65-d8f7-438f-a6a7-b6d062b70c97\"]},\"title\":\"Bokeh Application\",\"version\":\"0.13.0\"}};\n",
       "  var render_items = [{\"docid\":\"80f18012-8fc7-437a-9bd0-11e5fb21de16\",\"roots\":{\"8ca65a65-d8f7-438f-a6a7-b6d062b70c97\":\"70295129-e721-48cd-877a-05d8a2cb0b5b\"}}];\n",
       "  root.Bokeh.embed.embed_items_notebook(docs_json, render_items);\n",
       "\n",
       "  }\n",
       "  if (root.Bokeh !== undefined) {\n",
       "    embed_document(root);\n",
       "  } else {\n",
       "    var attempts = 0;\n",
       "    var timer = setInterval(function(root) {\n",
       "      if (root.Bokeh !== undefined) {\n",
       "        embed_document(root);\n",
       "        clearInterval(timer);\n",
       "      }\n",
       "      attempts++;\n",
       "      if (attempts > 100) {\n",
       "        console.log(\"Bokeh: ERROR: Unable to run BokehJS code because BokehJS library is missing\")\n",
       "        clearInterval(timer);\n",
       "      }\n",
       "    }, 10, root)\n",
       "  }\n",
       "})(window);"
      ],
      "application/vnd.bokehjs_exec.v0+json": ""
     },
     "metadata": {
      "application/vnd.bokehjs_exec.v0+json": {
       "id": "8ca65a65-d8f7-438f-a6a7-b6d062b70c97"
      }
     },
     "output_type": "display_data"
    }
   ],
   "source": [
    "# main figure\n",
    "p_new = figure(x_range = x_values, plot_height = 500, plot_width=900, title = 'Number of Classifications based on Methods',\n",
    "              toolbar_location=None, tools =\"hover\", tooltips = TOOLTIPS)\n",
    "\n",
    "# bar values\n",
    "p_new.vbar(x=dodge('classes', -0.3, range=p_new.x_range), \n",
    "           top='method_1', width=0.3, source=source, color =\"#c9d9d3\", legend=value(\"method_1\") )\n",
    "p_new.vbar(x=dodge('classes', 0.0, range=p_new.x_range), \n",
    "           top='method_2', width=0.3, source=source, color =\"#718dbf\", legend=value(\"method_2\") )\n",
    "p_new.vbar(x=dodge('classes', 0.3, range=p_new.x_range), \n",
    "           top='method_3', width=0.3, source=source, color =\"#e84d60\", legend=value(\"method_3\") )\n",
    "\n",
    "# additional properties\n",
    "p_new.y_range.start = 0\n",
    "p_new.x_range.range_padding = 0.0\n",
    "p_new.xgrid.grid_line_color = None\n",
    "p_new.legend.location = \"top_right\"\n",
    "p_new.legend.orientation = \"horizontal\"\n",
    "p_new.xaxis.major_label_orientation =1\n",
    "\n",
    "# show the plot\n",
    "show(p_new)"
   ]
  },
  {
   "cell_type": "markdown",
   "metadata": {},
   "source": [
    "# End of the Report"
   ]
  },
  {
   "cell_type": "code",
   "execution_count": null,
   "metadata": {},
   "outputs": [],
   "source": []
  },
  {
   "cell_type": "code",
   "execution_count": null,
   "metadata": {},
   "outputs": [],
   "source": []
  }
 ],
 "metadata": {
  "kernelspec": {
   "display_name": "Python 3",
   "language": "python",
   "name": "python3"
  },
  "language_info": {
   "codemirror_mode": {
    "name": "ipython",
    "version": 3
   },
   "file_extension": ".py",
   "mimetype": "text/x-python",
   "name": "python",
   "nbconvert_exporter": "python",
   "pygments_lexer": "ipython3",
   "version": "3.6.5"
  }
 },
 "nbformat": 4,
 "nbformat_minor": 2
}
